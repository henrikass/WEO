{
 "cells": [
  {
   "cell_type": "code",
   "execution_count": 63,
   "metadata": {},
   "outputs": [],
   "source": [
    "import pandas as pd\n",
    "import numpy as np\n",
    "import matplotlib.pyplot as plt\n",
    "import seaborn as sns\n",
    "from sklearn.cluster import KMeans\n",
    "from itertools import cycle"
   ]
  },
  {
   "cell_type": "code",
   "execution_count": 64,
   "metadata": {},
   "outputs": [],
   "source": [
    "df = pd.read_table('WEOOct2020all.tsv')"
   ]
  },
  {
   "cell_type": "code",
   "execution_count": 65,
   "metadata": {},
   "outputs": [
    {
     "data": {
      "text/html": [
       "<div>\n",
       "<style scoped>\n",
       "    .dataframe tbody tr th:only-of-type {\n",
       "        vertical-align: middle;\n",
       "    }\n",
       "\n",
       "    .dataframe tbody tr th {\n",
       "        vertical-align: top;\n",
       "    }\n",
       "\n",
       "    .dataframe thead th {\n",
       "        text-align: right;\n",
       "    }\n",
       "</style>\n",
       "<table border=\"1\" class=\"dataframe\">\n",
       "  <thead>\n",
       "    <tr style=\"text-align: right;\">\n",
       "      <th></th>\n",
       "      <th>WEO Country Code</th>\n",
       "      <th>ISO</th>\n",
       "      <th>WEO Subject Code</th>\n",
       "      <th>Country</th>\n",
       "      <th>Subject Descriptor</th>\n",
       "      <th>Subject Notes</th>\n",
       "      <th>Units</th>\n",
       "      <th>Scale</th>\n",
       "      <th>Country/Series-specific Notes</th>\n",
       "      <th>1980</th>\n",
       "      <th>...</th>\n",
       "      <th>2018</th>\n",
       "      <th>2019</th>\n",
       "      <th>2020</th>\n",
       "      <th>2021</th>\n",
       "      <th>2022</th>\n",
       "      <th>2023</th>\n",
       "      <th>2024</th>\n",
       "      <th>2025</th>\n",
       "      <th>Estimates Start After</th>\n",
       "      <th>Unnamed: 56</th>\n",
       "    </tr>\n",
       "  </thead>\n",
       "  <tbody>\n",
       "    <tr>\n",
       "      <th>0</th>\n",
       "      <td>512</td>\n",
       "      <td>AFG</td>\n",
       "      <td>NGDP_R</td>\n",
       "      <td>Afghanistan</td>\n",
       "      <td>Gross domestic product, constant prices</td>\n",
       "      <td>Expressed in billions of national currency uni...</td>\n",
       "      <td>National currency</td>\n",
       "      <td>Billions</td>\n",
       "      <td>Source: National Statistics Office Latest actu...</td>\n",
       "      <td>NaN</td>\n",
       "      <td>...</td>\n",
       "      <td>1,270.216</td>\n",
       "      <td>1,319.902</td>\n",
       "      <td>1,253.906</td>\n",
       "      <td>1,304.063</td>\n",
       "      <td>1,363.060</td>\n",
       "      <td>1,424.397</td>\n",
       "      <td>1,481.497</td>\n",
       "      <td>1,540.937</td>\n",
       "      <td>2019.0</td>\n",
       "      <td>NaN</td>\n",
       "    </tr>\n",
       "    <tr>\n",
       "      <th>1</th>\n",
       "      <td>512</td>\n",
       "      <td>AFG</td>\n",
       "      <td>NGDP_RPCH</td>\n",
       "      <td>Afghanistan</td>\n",
       "      <td>Gross domestic product, constant prices</td>\n",
       "      <td>Annual percentages of constant price GDP are y...</td>\n",
       "      <td>Percent change</td>\n",
       "      <td>NaN</td>\n",
       "      <td>See notes for:  Gross domestic product, consta...</td>\n",
       "      <td>NaN</td>\n",
       "      <td>...</td>\n",
       "      <td>1.189</td>\n",
       "      <td>3.912</td>\n",
       "      <td>-5.000</td>\n",
       "      <td>4.000</td>\n",
       "      <td>4.524</td>\n",
       "      <td>4.500</td>\n",
       "      <td>4.009</td>\n",
       "      <td>4.012</td>\n",
       "      <td>2019.0</td>\n",
       "      <td>NaN</td>\n",
       "    </tr>\n",
       "    <tr>\n",
       "      <th>2</th>\n",
       "      <td>512</td>\n",
       "      <td>AFG</td>\n",
       "      <td>NGDP</td>\n",
       "      <td>Afghanistan</td>\n",
       "      <td>Gross domestic product, current prices</td>\n",
       "      <td>Expressed in billions of national currency uni...</td>\n",
       "      <td>National currency</td>\n",
       "      <td>Billions</td>\n",
       "      <td>Source: National Statistics Office Latest actu...</td>\n",
       "      <td>NaN</td>\n",
       "      <td>...</td>\n",
       "      <td>1,327.690</td>\n",
       "      <td>1,469.596</td>\n",
       "      <td>1,465.922</td>\n",
       "      <td>1,597.738</td>\n",
       "      <td>1,741.832</td>\n",
       "      <td>1,893.023</td>\n",
       "      <td>2,047.665</td>\n",
       "      <td>2,215.013</td>\n",
       "      <td>2019.0</td>\n",
       "      <td>NaN</td>\n",
       "    </tr>\n",
       "  </tbody>\n",
       "</table>\n",
       "<p>3 rows × 57 columns</p>\n",
       "</div>"
      ],
      "text/plain": [
       "  WEO Country Code  ISO WEO Subject Code      Country  \\\n",
       "0              512  AFG           NGDP_R  Afghanistan   \n",
       "1              512  AFG        NGDP_RPCH  Afghanistan   \n",
       "2              512  AFG             NGDP  Afghanistan   \n",
       "\n",
       "                        Subject Descriptor  \\\n",
       "0  Gross domestic product, constant prices   \n",
       "1  Gross domestic product, constant prices   \n",
       "2   Gross domestic product, current prices   \n",
       "\n",
       "                                       Subject Notes              Units  \\\n",
       "0  Expressed in billions of national currency uni...  National currency   \n",
       "1  Annual percentages of constant price GDP are y...     Percent change   \n",
       "2  Expressed in billions of national currency uni...  National currency   \n",
       "\n",
       "      Scale                      Country/Series-specific Notes 1980  ...  \\\n",
       "0  Billions  Source: National Statistics Office Latest actu...  NaN  ...   \n",
       "1       NaN  See notes for:  Gross domestic product, consta...  NaN  ...   \n",
       "2  Billions  Source: National Statistics Office Latest actu...  NaN  ...   \n",
       "\n",
       "        2018       2019       2020       2021       2022       2023  \\\n",
       "0  1,270.216  1,319.902  1,253.906  1,304.063  1,363.060  1,424.397   \n",
       "1      1.189      3.912     -5.000      4.000      4.524      4.500   \n",
       "2  1,327.690  1,469.596  1,465.922  1,597.738  1,741.832  1,893.023   \n",
       "\n",
       "        2024       2025 Estimates Start After Unnamed: 56  \n",
       "0  1,481.497  1,540.937                2019.0         NaN  \n",
       "1      4.009      4.012                2019.0         NaN  \n",
       "2  2,047.665  2,215.013                2019.0         NaN  \n",
       "\n",
       "[3 rows x 57 columns]"
      ]
     },
     "execution_count": 65,
     "metadata": {},
     "output_type": "execute_result"
    }
   ],
   "source": [
    "df.head(3)\n"
   ]
  },
  {
   "cell_type": "code",
   "execution_count": 66,
   "metadata": {},
   "outputs": [
    {
     "data": {
      "text/plain": [
       "Index(['WEO Country Code', 'ISO', 'WEO Subject Code', 'Country',\n",
       "       'Subject Descriptor', 'Subject Notes', 'Units', 'Scale',\n",
       "       'Country/Series-specific Notes', '1980', '1981', '1982', '1983', '1984',\n",
       "       '1985', '1986', '1987', '1988', '1989', '1990', '1991', '1992', '1993',\n",
       "       '1994', '1995', '1996', '1997', '1998', '1999', '2000', '2001', '2002',\n",
       "       '2003', '2004', '2005', '2006', '2007', '2008', '2009', '2010', '2011',\n",
       "       '2012', '2013', '2014', '2015', '2016', '2017', '2018', '2019', '2020',\n",
       "       '2021', '2022', '2023', '2024', '2025', 'Estimates Start After',\n",
       "       'Unnamed: 56'],\n",
       "      dtype='object')"
      ]
     },
     "execution_count": 66,
     "metadata": {},
     "output_type": "execute_result"
    }
   ],
   "source": [
    "df.columns"
   ]
  },
  {
   "cell_type": "code",
   "execution_count": 67,
   "metadata": {},
   "outputs": [],
   "source": [
    "df = df[['Country',\n",
    "       'Subject Descriptor', '2015']]"
   ]
  },
  {
   "cell_type": "code",
   "execution_count": 68,
   "metadata": {},
   "outputs": [
    {
     "data": {
      "text/html": [
       "<div>\n",
       "<style scoped>\n",
       "    .dataframe tbody tr th:only-of-type {\n",
       "        vertical-align: middle;\n",
       "    }\n",
       "\n",
       "    .dataframe tbody tr th {\n",
       "        vertical-align: top;\n",
       "    }\n",
       "\n",
       "    .dataframe thead th {\n",
       "        text-align: right;\n",
       "    }\n",
       "</style>\n",
       "<table border=\"1\" class=\"dataframe\">\n",
       "  <thead>\n",
       "    <tr style=\"text-align: right;\">\n",
       "      <th></th>\n",
       "      <th>Country</th>\n",
       "      <th>Subject Descriptor</th>\n",
       "      <th>2015</th>\n",
       "    </tr>\n",
       "  </thead>\n",
       "  <tbody>\n",
       "    <tr>\n",
       "      <th>0</th>\n",
       "      <td>Afghanistan</td>\n",
       "      <td>Gross domestic product, constant prices</td>\n",
       "      <td>1,197.012</td>\n",
       "    </tr>\n",
       "    <tr>\n",
       "      <th>1</th>\n",
       "      <td>Afghanistan</td>\n",
       "      <td>Gross domestic product, constant prices</td>\n",
       "      <td>0.988</td>\n",
       "    </tr>\n",
       "    <tr>\n",
       "      <th>2</th>\n",
       "      <td>Afghanistan</td>\n",
       "      <td>Gross domestic product, current prices</td>\n",
       "      <td>1,226.570</td>\n",
       "    </tr>\n",
       "    <tr>\n",
       "      <th>3</th>\n",
       "      <td>Afghanistan</td>\n",
       "      <td>Gross domestic product, current prices</td>\n",
       "      <td>20.220</td>\n",
       "    </tr>\n",
       "    <tr>\n",
       "      <th>4</th>\n",
       "      <td>Afghanistan</td>\n",
       "      <td>Gross domestic product, current prices</td>\n",
       "      <td>72.056</td>\n",
       "    </tr>\n",
       "  </tbody>\n",
       "</table>\n",
       "</div>"
      ],
      "text/plain": [
       "       Country                       Subject Descriptor       2015\n",
       "0  Afghanistan  Gross domestic product, constant prices  1,197.012\n",
       "1  Afghanistan  Gross domestic product, constant prices      0.988\n",
       "2  Afghanistan   Gross domestic product, current prices  1,226.570\n",
       "3  Afghanistan   Gross domestic product, current prices     20.220\n",
       "4  Afghanistan   Gross domestic product, current prices     72.056"
      ]
     },
     "execution_count": 68,
     "metadata": {},
     "output_type": "execute_result"
    }
   ],
   "source": [
    "df.head()"
   ]
  },
  {
   "cell_type": "code",
   "execution_count": 69,
   "metadata": {},
   "outputs": [
    {
     "data": {
      "text/plain": [
       "Country                  1\n",
       "Subject Descriptor       1\n",
       "2015                  1231\n",
       "dtype: int64"
      ]
     },
     "execution_count": 69,
     "metadata": {},
     "output_type": "execute_result"
    }
   ],
   "source": [
    "df.isnull().sum()"
   ]
  },
  {
   "cell_type": "code",
   "execution_count": 70,
   "metadata": {},
   "outputs": [],
   "source": [
    "df = df.dropna()"
   ]
  },
  {
   "cell_type": "code",
   "execution_count": 71,
   "metadata": {},
   "outputs": [
    {
     "data": {
      "text/plain": [
       "Country               0\n",
       "Subject Descriptor    0\n",
       "2015                  0\n",
       "dtype: int64"
      ]
     },
     "execution_count": 71,
     "metadata": {},
     "output_type": "execute_result"
    }
   ],
   "source": [
    "df.isnull().sum()"
   ]
  },
  {
   "cell_type": "code",
   "execution_count": 72,
   "metadata": {},
   "outputs": [
    {
     "data": {
      "text/plain": [
       "(7545, 3)"
      ]
     },
     "execution_count": 72,
     "metadata": {},
     "output_type": "execute_result"
    }
   ],
   "source": [
    "df.shape"
   ]
  },
  {
   "cell_type": "code",
   "execution_count": 73,
   "metadata": {},
   "outputs": [],
   "source": [
    "temp_list = list(df['Subject Descriptor'].unique())"
   ]
  },
  {
   "cell_type": "code",
   "execution_count": 74,
   "metadata": {},
   "outputs": [
    {
     "data": {
      "text/plain": [
       "29"
      ]
     },
     "execution_count": 74,
     "metadata": {},
     "output_type": "execute_result"
    }
   ],
   "source": [
    "len(temp_list)"
   ]
  },
  {
   "cell_type": "code",
   "execution_count": 75,
   "metadata": {},
   "outputs": [],
   "source": [
    "for country in countries:\n",
    "    temp_df = df[df['Country'] == country]\n",
    "    temp_list2 = list(temp_df['Subject Descriptor'].unique())\n",
    "    temp_list = [x for x in temp_list if x in temp_list2]"
   ]
  },
  {
   "cell_type": "markdown",
   "metadata": {},
   "source": [
    "### Visi laukai 2015 metais, kurie yra visose šalyse"
   ]
  },
  {
   "cell_type": "code",
   "execution_count": 80,
   "metadata": {},
   "outputs": [
    {
     "data": {
      "text/plain": [
       "['Gross domestic product, constant prices',\n",
       " 'Gross domestic product, current prices',\n",
       " 'Gross domestic product, deflator',\n",
       " 'Gross domestic product based on purchasing-power-parity (PPP) share of world total',\n",
       " 'Implied PPP conversion rate',\n",
       " 'General government revenue',\n",
       " 'Gross domestic product corresponding to fiscal year, current prices']"
      ]
     },
     "execution_count": 80,
     "metadata": {},
     "output_type": "execute_result"
    }
   ],
   "source": [
    "temp_list"
   ]
  },
  {
   "cell_type": "code",
   "execution_count": null,
   "metadata": {},
   "outputs": [],
   "source": []
  }
 ],
 "metadata": {
  "kernelspec": {
   "display_name": "Python 3",
   "language": "python",
   "name": "python3"
  },
  "language_info": {
   "codemirror_mode": {
    "name": "ipython",
    "version": 3
   },
   "file_extension": ".py",
   "mimetype": "text/x-python",
   "name": "python",
   "nbconvert_exporter": "python",
   "pygments_lexer": "ipython3",
   "version": "3.8.3"
  }
 },
 "nbformat": 4,
 "nbformat_minor": 4
}
