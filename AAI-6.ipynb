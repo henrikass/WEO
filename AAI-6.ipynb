{
 "cells": [
  {
   "cell_type": "code",
   "execution_count": 445,
   "metadata": {},
   "outputs": [],
   "source": [
    "import pandas as pd\n",
    "import numpy as np\n",
    "import matplotlib.pyplot as plt\n",
    "import seaborn as sns"
   ]
  },
  {
   "cell_type": "code",
   "execution_count": 200,
   "metadata": {},
   "outputs": [],
   "source": [
    "df = pd.read_table('WEOOct2020all.tsv')"
   ]
  },
  {
   "cell_type": "code",
   "execution_count": 202,
   "metadata": {},
   "outputs": [
    {
     "data": {
      "text/html": [
       "<div>\n",
       "<style scoped>\n",
       "    .dataframe tbody tr th:only-of-type {\n",
       "        vertical-align: middle;\n",
       "    }\n",
       "\n",
       "    .dataframe tbody tr th {\n",
       "        vertical-align: top;\n",
       "    }\n",
       "\n",
       "    .dataframe thead th {\n",
       "        text-align: right;\n",
       "    }\n",
       "</style>\n",
       "<table border=\"1\" class=\"dataframe\">\n",
       "  <thead>\n",
       "    <tr style=\"text-align: right;\">\n",
       "      <th></th>\n",
       "      <th>WEO Country Code</th>\n",
       "      <th>ISO</th>\n",
       "      <th>WEO Subject Code</th>\n",
       "      <th>Country</th>\n",
       "      <th>Subject Descriptor</th>\n",
       "      <th>Subject Notes</th>\n",
       "      <th>Units</th>\n",
       "      <th>Scale</th>\n",
       "      <th>Country/Series-specific Notes</th>\n",
       "      <th>1980</th>\n",
       "      <th>...</th>\n",
       "      <th>2018</th>\n",
       "      <th>2019</th>\n",
       "      <th>2020</th>\n",
       "      <th>2021</th>\n",
       "      <th>2022</th>\n",
       "      <th>2023</th>\n",
       "      <th>2024</th>\n",
       "      <th>2025</th>\n",
       "      <th>Estimates Start After</th>\n",
       "      <th>Unnamed: 56</th>\n",
       "    </tr>\n",
       "  </thead>\n",
       "  <tbody>\n",
       "    <tr>\n",
       "      <th>0</th>\n",
       "      <td>512</td>\n",
       "      <td>AFG</td>\n",
       "      <td>NGDP_R</td>\n",
       "      <td>Afghanistan</td>\n",
       "      <td>Gross domestic product, constant prices</td>\n",
       "      <td>Expressed in billions of national currency uni...</td>\n",
       "      <td>National currency</td>\n",
       "      <td>Billions</td>\n",
       "      <td>Source: National Statistics Office Latest actu...</td>\n",
       "      <td>NaN</td>\n",
       "      <td>...</td>\n",
       "      <td>1,270.216</td>\n",
       "      <td>1,319.902</td>\n",
       "      <td>1,253.906</td>\n",
       "      <td>1,304.063</td>\n",
       "      <td>1,363.060</td>\n",
       "      <td>1,424.397</td>\n",
       "      <td>1,481.497</td>\n",
       "      <td>1,540.937</td>\n",
       "      <td>2019.0</td>\n",
       "      <td>NaN</td>\n",
       "    </tr>\n",
       "    <tr>\n",
       "      <th>1</th>\n",
       "      <td>512</td>\n",
       "      <td>AFG</td>\n",
       "      <td>NGDP_RPCH</td>\n",
       "      <td>Afghanistan</td>\n",
       "      <td>Gross domestic product, constant prices</td>\n",
       "      <td>Annual percentages of constant price GDP are y...</td>\n",
       "      <td>Percent change</td>\n",
       "      <td>NaN</td>\n",
       "      <td>See notes for:  Gross domestic product, consta...</td>\n",
       "      <td>NaN</td>\n",
       "      <td>...</td>\n",
       "      <td>1.189</td>\n",
       "      <td>3.912</td>\n",
       "      <td>-5.000</td>\n",
       "      <td>4.000</td>\n",
       "      <td>4.524</td>\n",
       "      <td>4.500</td>\n",
       "      <td>4.009</td>\n",
       "      <td>4.012</td>\n",
       "      <td>2019.0</td>\n",
       "      <td>NaN</td>\n",
       "    </tr>\n",
       "    <tr>\n",
       "      <th>2</th>\n",
       "      <td>512</td>\n",
       "      <td>AFG</td>\n",
       "      <td>NGDP</td>\n",
       "      <td>Afghanistan</td>\n",
       "      <td>Gross domestic product, current prices</td>\n",
       "      <td>Expressed in billions of national currency uni...</td>\n",
       "      <td>National currency</td>\n",
       "      <td>Billions</td>\n",
       "      <td>Source: National Statistics Office Latest actu...</td>\n",
       "      <td>NaN</td>\n",
       "      <td>...</td>\n",
       "      <td>1,327.690</td>\n",
       "      <td>1,469.596</td>\n",
       "      <td>1,465.922</td>\n",
       "      <td>1,597.738</td>\n",
       "      <td>1,741.832</td>\n",
       "      <td>1,893.023</td>\n",
       "      <td>2,047.665</td>\n",
       "      <td>2,215.013</td>\n",
       "      <td>2019.0</td>\n",
       "      <td>NaN</td>\n",
       "    </tr>\n",
       "    <tr>\n",
       "      <th>3</th>\n",
       "      <td>512</td>\n",
       "      <td>AFG</td>\n",
       "      <td>NGDPD</td>\n",
       "      <td>Afghanistan</td>\n",
       "      <td>Gross domestic product, current prices</td>\n",
       "      <td>Values are based upon GDP in national currency...</td>\n",
       "      <td>U.S. dollars</td>\n",
       "      <td>Billions</td>\n",
       "      <td>See notes for:  Gross domestic product, curren...</td>\n",
       "      <td>NaN</td>\n",
       "      <td>...</td>\n",
       "      <td>18.401</td>\n",
       "      <td>18.876</td>\n",
       "      <td>19.006</td>\n",
       "      <td>19.692</td>\n",
       "      <td>20.829</td>\n",
       "      <td>22.022</td>\n",
       "      <td>23.169</td>\n",
       "      <td>24.372</td>\n",
       "      <td>2019.0</td>\n",
       "      <td>NaN</td>\n",
       "    </tr>\n",
       "    <tr>\n",
       "      <th>4</th>\n",
       "      <td>512</td>\n",
       "      <td>AFG</td>\n",
       "      <td>PPPGDP</td>\n",
       "      <td>Afghanistan</td>\n",
       "      <td>Gross domestic product, current prices</td>\n",
       "      <td>These data form the basis for the country weig...</td>\n",
       "      <td>Purchasing power parity; international dollars</td>\n",
       "      <td>Billions</td>\n",
       "      <td>See notes for:  Gross domestic product, curren...</td>\n",
       "      <td>NaN</td>\n",
       "      <td>...</td>\n",
       "      <td>77.416</td>\n",
       "      <td>81.880</td>\n",
       "      <td>78.884</td>\n",
       "      <td>83.852</td>\n",
       "      <td>89.205</td>\n",
       "      <td>94.908</td>\n",
       "      <td>100.600</td>\n",
       "      <td>106.685</td>\n",
       "      <td>2019.0</td>\n",
       "      <td>NaN</td>\n",
       "    </tr>\n",
       "  </tbody>\n",
       "</table>\n",
       "<p>5 rows × 57 columns</p>\n",
       "</div>"
      ],
      "text/plain": [
       "  WEO Country Code  ISO WEO Subject Code      Country  \\\n",
       "0              512  AFG           NGDP_R  Afghanistan   \n",
       "1              512  AFG        NGDP_RPCH  Afghanistan   \n",
       "2              512  AFG             NGDP  Afghanistan   \n",
       "3              512  AFG            NGDPD  Afghanistan   \n",
       "4              512  AFG           PPPGDP  Afghanistan   \n",
       "\n",
       "                        Subject Descriptor  \\\n",
       "0  Gross domestic product, constant prices   \n",
       "1  Gross domestic product, constant prices   \n",
       "2   Gross domestic product, current prices   \n",
       "3   Gross domestic product, current prices   \n",
       "4   Gross domestic product, current prices   \n",
       "\n",
       "                                       Subject Notes  \\\n",
       "0  Expressed in billions of national currency uni...   \n",
       "1  Annual percentages of constant price GDP are y...   \n",
       "2  Expressed in billions of national currency uni...   \n",
       "3  Values are based upon GDP in national currency...   \n",
       "4  These data form the basis for the country weig...   \n",
       "\n",
       "                                            Units     Scale  \\\n",
       "0                               National currency  Billions   \n",
       "1                                  Percent change       NaN   \n",
       "2                               National currency  Billions   \n",
       "3                                    U.S. dollars  Billions   \n",
       "4  Purchasing power parity; international dollars  Billions   \n",
       "\n",
       "                       Country/Series-specific Notes 1980  ...       2018  \\\n",
       "0  Source: National Statistics Office Latest actu...  NaN  ...  1,270.216   \n",
       "1  See notes for:  Gross domestic product, consta...  NaN  ...      1.189   \n",
       "2  Source: National Statistics Office Latest actu...  NaN  ...  1,327.690   \n",
       "3  See notes for:  Gross domestic product, curren...  NaN  ...     18.401   \n",
       "4  See notes for:  Gross domestic product, curren...  NaN  ...     77.416   \n",
       "\n",
       "        2019       2020       2021       2022       2023       2024  \\\n",
       "0  1,319.902  1,253.906  1,304.063  1,363.060  1,424.397  1,481.497   \n",
       "1      3.912     -5.000      4.000      4.524      4.500      4.009   \n",
       "2  1,469.596  1,465.922  1,597.738  1,741.832  1,893.023  2,047.665   \n",
       "3     18.876     19.006     19.692     20.829     22.022     23.169   \n",
       "4     81.880     78.884     83.852     89.205     94.908    100.600   \n",
       "\n",
       "        2025 Estimates Start After Unnamed: 56  \n",
       "0  1,540.937                2019.0         NaN  \n",
       "1      4.012                2019.0         NaN  \n",
       "2  2,215.013                2019.0         NaN  \n",
       "3     24.372                2019.0         NaN  \n",
       "4    106.685                2019.0         NaN  \n",
       "\n",
       "[5 rows x 57 columns]"
      ]
     },
     "execution_count": 202,
     "metadata": {},
     "output_type": "execute_result"
    }
   ],
   "source": [
    "df.head()"
   ]
  },
  {
   "cell_type": "code",
   "execution_count": 308,
   "metadata": {},
   "outputs": [
    {
     "data": {
      "text/plain": [
       "Index(['WEO Country Code', 'ISO', 'WEO Subject Code', 'Country',\n",
       "       'Subject Descriptor', 'Subject Notes', 'Units', 'Scale',\n",
       "       'Country/Series-specific Notes', '1980', '1981', '1982', '1983', '1984',\n",
       "       '1985', '1986', '1987', '1988', '1989', '1990', '1991', '1992', '1993',\n",
       "       '1994', '1995', '1996', '1997', '1998', '1999', '2000', '2001', '2002',\n",
       "       '2003', '2004', '2005', '2006', '2007', '2008', '2009', '2010', '2011',\n",
       "       '2012', '2013', '2014', '2015', '2016', '2017', '2018', '2019', '2020',\n",
       "       '2021', '2022', '2023', '2024', '2025', 'Estimates Start After',\n",
       "       'Unnamed: 56'],\n",
       "      dtype='object')"
      ]
     },
     "execution_count": 308,
     "metadata": {},
     "output_type": "execute_result"
    }
   ],
   "source": [
    "df.columns"
   ]
  },
  {
   "cell_type": "code",
   "execution_count": 309,
   "metadata": {},
   "outputs": [
    {
     "data": {
      "text/plain": [
       "array(['Gross domestic product, constant prices',\n",
       "       'Gross domestic product, current prices',\n",
       "       'Gross domestic product, deflator',\n",
       "       'Gross domestic product per capita, constant prices',\n",
       "       'Gross domestic product per capita, current prices',\n",
       "       'Output gap in percent of potential GDP',\n",
       "       'Gross domestic product based on purchasing-power-parity (PPP) share of world total',\n",
       "       'Implied PPP conversion rate', 'Total investment',\n",
       "       'Gross national savings', 'Inflation, average consumer prices',\n",
       "       'Inflation, end of period consumer prices',\n",
       "       'Six-month London interbank offered rate (LIBOR)',\n",
       "       'Volume of imports of goods and services',\n",
       "       'Volume of Imports of goods',\n",
       "       'Volume of exports of goods and services',\n",
       "       'Volume of exports of goods', 'Unemployment rate', 'Employment',\n",
       "       'Population', 'General government revenue',\n",
       "       'General government total expenditure',\n",
       "       'General government net lending/borrowing',\n",
       "       'General government structural balance',\n",
       "       'General government primary net lending/borrowing',\n",
       "       'General government net debt', 'General government gross debt',\n",
       "       'Gross domestic product corresponding to fiscal year, current prices',\n",
       "       'Current account balance', nan], dtype=object)"
      ]
     },
     "execution_count": 309,
     "metadata": {},
     "output_type": "execute_result"
    }
   ],
   "source": [
    "df[\"Subject Descriptor\"].unique()"
   ]
  },
  {
   "cell_type": "code",
   "execution_count": 171,
   "metadata": {},
   "outputs": [],
   "source": [
    "feature_columns = ['Total investment',\n",
    "       'Gross national savings', 'Inflation, average consumer prices',\n",
    "       'Inflation, end of period consumer prices',\n",
    "       'Six-month London interbank offered rate (LIBOR)',\n",
    "       'Volume of imports of goods and services',\n",
    "       'Volume of Imports of goods',\n",
    "       'Volume of exports of goods and services',\n",
    "       'Volume of exports of goods', 'Unemployment rate', 'Employment',\n",
    "       'Population', 'General government revenue',\n",
    "       'General government total expenditure',\n",
    "       'General government net lending/borrowing',\n",
    "       'General government structural balance',\n",
    "       'General government primary net lending/borrowing',\n",
    "       'General government net debt', 'General government gross debt',\n",
    "       'Current account balance']"
   ]
  },
  {
   "cell_type": "code",
   "execution_count": 262,
   "metadata": {},
   "outputs": [
    {
     "data": {
      "text/plain": [
       "20"
      ]
     },
     "execution_count": 262,
     "metadata": {},
     "output_type": "execute_result"
    }
   ],
   "source": [
    "len(feature_columns)"
   ]
  },
  {
   "cell_type": "code",
   "execution_count": 172,
   "metadata": {},
   "outputs": [
    {
     "data": {
      "text/plain": [
       "Equatorial Guinea           45\n",
       "Angola                      45\n",
       "Spain                       45\n",
       "Azerbaijan                  45\n",
       "Samoa                       45\n",
       "                            ..\n",
       "Mongolia                    45\n",
       "Ukraine                     45\n",
       "Taiwan Province of China    45\n",
       "Egypt                       45\n",
       "Bosnia and Herzegovina      45\n",
       "Name: Country, Length: 195, dtype: int64"
      ]
     },
     "execution_count": 172,
     "metadata": {},
     "output_type": "execute_result"
    }
   ],
   "source": [
    "df['Country'].value_counts()"
   ]
  },
  {
   "cell_type": "code",
   "execution_count": 173,
   "metadata": {},
   "outputs": [],
   "source": [
    "mask = df['Subject Descriptor'].isin(feature_columns)"
   ]
  },
  {
   "cell_type": "code",
   "execution_count": 174,
   "metadata": {},
   "outputs": [],
   "source": [
    "df = df[mask]"
   ]
  },
  {
   "cell_type": "code",
   "execution_count": 175,
   "metadata": {},
   "outputs": [
    {
     "data": {
      "text/plain": [
       "20"
      ]
     },
     "execution_count": 175,
     "metadata": {},
     "output_type": "execute_result"
    }
   ],
   "source": [
    "len(df[\"Subject Descriptor\"].unique())"
   ]
  },
  {
   "cell_type": "code",
   "execution_count": 176,
   "metadata": {},
   "outputs": [
    {
     "data": {
      "text/plain": [
       "Equatorial Guinea           30\n",
       "Angola                      30\n",
       "Spain                       30\n",
       "Azerbaijan                  30\n",
       "Samoa                       30\n",
       "                            ..\n",
       "Mongolia                    30\n",
       "Ukraine                     30\n",
       "Taiwan Province of China    30\n",
       "Egypt                       30\n",
       "Bosnia and Herzegovina      30\n",
       "Name: Country, Length: 195, dtype: int64"
      ]
     },
     "execution_count": 176,
     "metadata": {},
     "output_type": "execute_result"
    }
   ],
   "source": [
    "df['Country'].value_counts()"
   ]
  },
  {
   "cell_type": "code",
   "execution_count": 118,
   "metadata": {},
   "outputs": [
    {
     "data": {
      "text/plain": [
       "1049"
      ]
     },
     "execution_count": 118,
     "metadata": {},
     "output_type": "execute_result"
    }
   ],
   "source": [
    "df['2019'].isnull().sum()"
   ]
  },
  {
   "cell_type": "code",
   "execution_count": 177,
   "metadata": {},
   "outputs": [],
   "source": [
    "mask = df['Units'].isin(['Percent of GDP'])\n",
    "df = df[mask]"
   ]
  },
  {
   "cell_type": "code",
   "execution_count": 179,
   "metadata": {},
   "outputs": [
    {
     "data": {
      "text/plain": [
       "(1755, 57)"
      ]
     },
     "execution_count": 179,
     "metadata": {},
     "output_type": "execute_result"
    }
   ],
   "source": [
    "df.shape"
   ]
  },
  {
   "cell_type": "code",
   "execution_count": 359,
   "metadata": {},
   "outputs": [],
   "source": [
    "rest_columns = [\n",
    "       'Inflation, average consumer prices',\n",
    "       'Inflation, end of period consumer prices',\n",
    "       'Six-month London interbank offered rate (LIBOR)',\n",
    "       'Volume of imports of goods and services',\n",
    "       'Volume of Imports of goods',\n",
    "       'Volume of exports of goods and services',\n",
    "       'Volume of exports of goods', 'Unemployment rate', 'Employment',\n",
    "       'Population', 'General government revenue',\n",
    "       'General government total expenditure',\n",
    "       'General government net lending/borrowing',\n",
    "       'General government structural balance',\n",
    "       'General government primary net lending/borrowing',\n",
    "       'General government net debt', 'General government gross debt',\n",
    "       'Current account balance', 'Gross domestic product, constant prices']"
   ]
  },
  {
   "cell_type": "code",
   "execution_count": 343,
   "metadata": {},
   "outputs": [],
   "source": [
    "new_df = df[df['Subject Descriptor']==\"Total investment\"]\n",
    "        "
   ]
  },
  {
   "cell_type": "code",
   "execution_count": 344,
   "metadata": {},
   "outputs": [],
   "source": [
    "new_df = new_df[['Country', '2019']]"
   ]
  },
  {
   "cell_type": "code",
   "execution_count": 345,
   "metadata": {},
   "outputs": [],
   "source": [
    "new_df.rename(columns={'2019': 'Total investment'}, inplace=True)"
   ]
  },
  {
   "cell_type": "code",
   "execution_count": 346,
   "metadata": {},
   "outputs": [
    {
     "data": {
      "text/html": [
       "<div>\n",
       "<style scoped>\n",
       "    .dataframe tbody tr th:only-of-type {\n",
       "        vertical-align: middle;\n",
       "    }\n",
       "\n",
       "    .dataframe tbody tr th {\n",
       "        vertical-align: top;\n",
       "    }\n",
       "\n",
       "    .dataframe thead th {\n",
       "        text-align: right;\n",
       "    }\n",
       "</style>\n",
       "<table border=\"1\" class=\"dataframe\">\n",
       "  <thead>\n",
       "    <tr style=\"text-align: right;\">\n",
       "      <th></th>\n",
       "      <th>Country</th>\n",
       "      <th>Total investment</th>\n",
       "    </tr>\n",
       "  </thead>\n",
       "  <tbody>\n",
       "    <tr>\n",
       "      <th>14</th>\n",
       "      <td>Afghanistan</td>\n",
       "      <td>18.192</td>\n",
       "    </tr>\n",
       "    <tr>\n",
       "      <th>59</th>\n",
       "      <td>Albania</td>\n",
       "      <td>22.752</td>\n",
       "    </tr>\n",
       "    <tr>\n",
       "      <th>104</th>\n",
       "      <td>Algeria</td>\n",
       "      <td>42.658</td>\n",
       "    </tr>\n",
       "    <tr>\n",
       "      <th>149</th>\n",
       "      <td>Angola</td>\n",
       "      <td>19.786</td>\n",
       "    </tr>\n",
       "    <tr>\n",
       "      <th>194</th>\n",
       "      <td>Antigua and Barbuda</td>\n",
       "      <td>33.239</td>\n",
       "    </tr>\n",
       "  </tbody>\n",
       "</table>\n",
       "</div>"
      ],
      "text/plain": [
       "                 Country Total investment\n",
       "14           Afghanistan           18.192\n",
       "59               Albania           22.752\n",
       "104              Algeria           42.658\n",
       "149               Angola           19.786\n",
       "194  Antigua and Barbuda           33.239"
      ]
     },
     "execution_count": 346,
     "metadata": {},
     "output_type": "execute_result"
    }
   ],
   "source": [
    "new_df.head()"
   ]
  },
  {
   "cell_type": "code",
   "execution_count": 295,
   "metadata": {},
   "outputs": [
    {
     "name": "stdout",
     "output_type": "stream",
     "text": [
      "Column: Gross national savings\n",
      "['Percent of GDP']\n",
      "----------------------------\n",
      "Column: Inflation, average consumer prices\n",
      "['Index' 'Percent change']\n",
      "----------------------------\n",
      "Column: Inflation, end of period consumer prices\n",
      "['Index' 'Percent change']\n",
      "----------------------------\n",
      "Column: Six-month London interbank offered rate (LIBOR)\n",
      "['Percent']\n",
      "----------------------------\n",
      "Column: Volume of imports of goods and services\n",
      "['Percent change']\n",
      "----------------------------\n",
      "Column: Volume of Imports of goods\n",
      "['Percent change']\n",
      "----------------------------\n",
      "Column: Volume of exports of goods and services\n",
      "['Percent change']\n",
      "----------------------------\n",
      "Column: Volume of exports of goods\n",
      "['Percent change']\n",
      "----------------------------\n",
      "Column: Unemployment rate\n",
      "['Percent of total labor force']\n",
      "----------------------------\n",
      "Column: Employment\n",
      "['Persons']\n",
      "----------------------------\n",
      "Column: Population\n",
      "['Persons']\n",
      "----------------------------\n",
      "Column: General government revenue\n",
      "['National currency' 'Percent of GDP']\n",
      "----------------------------\n",
      "Column: General government total expenditure\n",
      "['National currency' 'Percent of GDP']\n",
      "----------------------------\n",
      "Column: General government net lending/borrowing\n",
      "['National currency' 'Percent of GDP']\n",
      "----------------------------\n",
      "Column: General government structural balance\n",
      "['National currency' 'Percent of potential GDP']\n",
      "----------------------------\n",
      "Column: General government primary net lending/borrowing\n",
      "['National currency' 'Percent of GDP']\n",
      "----------------------------\n",
      "Column: General government net debt\n",
      "['National currency' 'Percent of GDP']\n",
      "----------------------------\n",
      "Column: General government gross debt\n",
      "['National currency' 'Percent of GDP']\n",
      "----------------------------\n",
      "Column: Current account balance\n",
      "['U.S. dollars' 'Percent of GDP']\n",
      "----------------------------\n"
     ]
    }
   ],
   "source": [
    "for c in rest_columns:\n",
    "    temp_df = df[(df['Subject Descriptor']==c)]\n",
    "    print(f'Column: {c}')\n",
    "    print(temp_df['Units'].unique())\n",
    "    print('----------------------------')\n",
    "    "
   ]
  },
  {
   "cell_type": "code",
   "execution_count": 347,
   "metadata": {},
   "outputs": [
    {
     "name": "stdout",
     "output_type": "stream",
     "text": [
      "Inner loop: Inflation, average consumer prices\n",
      "Inner loop: Inflation, end of period consumer prices\n",
      "columns: Six-month London interbank offered rate (LIBOR)\n",
      "columns: Volume of imports of goods and services\n",
      "columns: Volume of Imports of goods\n",
      "columns: Volume of exports of goods and services\n",
      "columns: Volume of exports of goods\n",
      "columns: Unemployment rate\n",
      "columns: Employment\n",
      "columns: Population\n",
      "Inner loop: General government revenue\n",
      "Inner loop: General government total expenditure\n",
      "Inner loop: General government net lending/borrowing\n",
      "Inner loop: General government structural balance\n",
      "Inner loop: General government primary net lending/borrowing\n",
      "Inner loop: General government net debt\n",
      "Inner loop: General government gross debt\n",
      "Inner loop: Current account balance\n",
      "Inner loop: Gross domestic product, constant prices\n"
     ]
    }
   ],
   "source": [
    "for c in rest_columns:\n",
    "    temp_df = df[df['Subject Descriptor']== c]\n",
    "    \n",
    "    if len(temp_df['Units'].unique()) > 1:   \n",
    "        for u in list(temp_df['Units'].unique()):\n",
    "            print(f'Inner loop: {c}')\n",
    "            mask = temp_df['Units'] == u\n",
    "            temp_df = temp_df[mask]\n",
    "            temp_df = temp_df[['Country', '2019']]\n",
    "            temp_df.rename(columns={'2019': f'{c}'}, inplace=True)\n",
    "            new_df = pd.merge(new_df, temp_df, on='Country', how='outer')\n",
    "            break\n",
    "    else:\n",
    "        temp_df = temp_df[['Country', '2019']]\n",
    "        print(f'columns: {c}')\n",
    "        temp_df.rename(columns={'2019': f'{c}'}, inplace=True)\n",
    "        new_df = pd.merge(new_df, temp_df, on='Country', how='outer')\n",
    "#     print(new_df.columns)"
   ]
  },
  {
   "cell_type": "code",
   "execution_count": 348,
   "metadata": {},
   "outputs": [
    {
     "data": {
      "text/plain": [
       "(195, 21)"
      ]
     },
     "execution_count": 348,
     "metadata": {},
     "output_type": "execute_result"
    }
   ],
   "source": [
    "new_df.shape"
   ]
  },
  {
   "cell_type": "code",
   "execution_count": 352,
   "metadata": {},
   "outputs": [
    {
     "data": {
      "text/html": [
       "<div>\n",
       "<style scoped>\n",
       "    .dataframe tbody tr th:only-of-type {\n",
       "        vertical-align: middle;\n",
       "    }\n",
       "\n",
       "    .dataframe tbody tr th {\n",
       "        vertical-align: top;\n",
       "    }\n",
       "\n",
       "    .dataframe thead th {\n",
       "        text-align: right;\n",
       "    }\n",
       "</style>\n",
       "<table border=\"1\" class=\"dataframe\">\n",
       "  <thead>\n",
       "    <tr style=\"text-align: right;\">\n",
       "      <th></th>\n",
       "      <th>Country</th>\n",
       "      <th>Total investment</th>\n",
       "      <th>Inflation, average consumer prices</th>\n",
       "      <th>Inflation, end of period consumer prices</th>\n",
       "      <th>Six-month London interbank offered rate (LIBOR)</th>\n",
       "      <th>Volume of imports of goods and services</th>\n",
       "      <th>Volume of Imports of goods</th>\n",
       "      <th>Volume of exports of goods and services</th>\n",
       "      <th>Volume of exports of goods</th>\n",
       "      <th>Unemployment rate</th>\n",
       "      <th>...</th>\n",
       "      <th>Population</th>\n",
       "      <th>General government revenue</th>\n",
       "      <th>General government total expenditure</th>\n",
       "      <th>General government net lending/borrowing</th>\n",
       "      <th>General government structural balance</th>\n",
       "      <th>General government primary net lending/borrowing</th>\n",
       "      <th>General government net debt</th>\n",
       "      <th>General government gross debt</th>\n",
       "      <th>Current account balance</th>\n",
       "      <th>Gross domestic product, constant prices</th>\n",
       "    </tr>\n",
       "  </thead>\n",
       "  <tbody>\n",
       "    <tr>\n",
       "      <th>99</th>\n",
       "      <td>Lithuania</td>\n",
       "      <td>16.684</td>\n",
       "      <td>109.466</td>\n",
       "      <td>110.620</td>\n",
       "      <td>NaN</td>\n",
       "      <td>6.034</td>\n",
       "      <td>NaN</td>\n",
       "      <td>9.559</td>\n",
       "      <td>NaN</td>\n",
       "      <td>6.254</td>\n",
       "      <td>...</td>\n",
       "      <td>2.783</td>\n",
       "      <td>16.647</td>\n",
       "      <td>16.518</td>\n",
       "      <td>0.129</td>\n",
       "      <td>0.121</td>\n",
       "      <td>0.518</td>\n",
       "      <td>15.249</td>\n",
       "      <td>18.242</td>\n",
       "      <td>2.313</td>\n",
       "      <td>42.981</td>\n",
       "    </tr>\n",
       "  </tbody>\n",
       "</table>\n",
       "<p>1 rows × 21 columns</p>\n",
       "</div>"
      ],
      "text/plain": [
       "      Country Total investment Inflation, average consumer prices  \\\n",
       "99  Lithuania           16.684                            109.466   \n",
       "\n",
       "   Inflation, end of period consumer prices  \\\n",
       "99                                  110.620   \n",
       "\n",
       "   Six-month London interbank offered rate (LIBOR)  \\\n",
       "99                                             NaN   \n",
       "\n",
       "   Volume of imports of goods and services Volume of Imports of goods  \\\n",
       "99                                   6.034                        NaN   \n",
       "\n",
       "   Volume of exports of goods and services Volume of exports of goods  \\\n",
       "99                                   9.559                        NaN   \n",
       "\n",
       "   Unemployment rate  ... Population General government revenue  \\\n",
       "99             6.254  ...      2.783                     16.647   \n",
       "\n",
       "   General government total expenditure  \\\n",
       "99                               16.518   \n",
       "\n",
       "   General government net lending/borrowing  \\\n",
       "99                                    0.129   \n",
       "\n",
       "   General government structural balance  \\\n",
       "99                                 0.121   \n",
       "\n",
       "   General government primary net lending/borrowing  \\\n",
       "99                                            0.518   \n",
       "\n",
       "   General government net debt General government gross debt  \\\n",
       "99                      15.249                        18.242   \n",
       "\n",
       "   Current account balance Gross domestic product, constant prices  \n",
       "99                   2.313                                  42.981  \n",
       "\n",
       "[1 rows x 21 columns]"
      ]
     },
     "execution_count": 352,
     "metadata": {},
     "output_type": "execute_result"
    }
   ],
   "source": [
    "new_df[new_df['Country'] == 'Lithuania']"
   ]
  },
  {
   "cell_type": "code",
   "execution_count": 350,
   "metadata": {},
   "outputs": [
    {
     "data": {
      "text/plain": [
       "Index(['Country', 'Total investment', 'Inflation, average consumer prices',\n",
       "       'Inflation, end of period consumer prices',\n",
       "       'Six-month London interbank offered rate (LIBOR)',\n",
       "       'Volume of imports of goods and services', 'Volume of Imports of goods',\n",
       "       'Volume of exports of goods and services', 'Volume of exports of goods',\n",
       "       'Unemployment rate', 'Employment', 'Population',\n",
       "       'General government revenue', 'General government total expenditure',\n",
       "       'General government net lending/borrowing',\n",
       "       'General government structural balance',\n",
       "       'General government primary net lending/borrowing',\n",
       "       'General government net debt', 'General government gross debt',\n",
       "       'Current account balance', 'Gross domestic product, constant prices'],\n",
       "      dtype='object')"
      ]
     },
     "execution_count": 350,
     "metadata": {},
     "output_type": "execute_result"
    }
   ],
   "source": [
    "new_df.columns"
   ]
  },
  {
   "cell_type": "code",
   "execution_count": 355,
   "metadata": {},
   "outputs": [],
   "source": [
    "new_df.to_csv('2019_GDP.csv', index=False)"
   ]
  },
  {
   "cell_type": "code",
   "execution_count": 365,
   "metadata": {},
   "outputs": [],
   "source": [
    "df_2019 = pd.read_csv('2019_GDP.csv')"
   ]
  },
  {
   "cell_type": "code",
   "execution_count": 366,
   "metadata": {},
   "outputs": [
    {
     "data": {
      "text/html": [
       "<div>\n",
       "<style scoped>\n",
       "    .dataframe tbody tr th:only-of-type {\n",
       "        vertical-align: middle;\n",
       "    }\n",
       "\n",
       "    .dataframe tbody tr th {\n",
       "        vertical-align: top;\n",
       "    }\n",
       "\n",
       "    .dataframe thead th {\n",
       "        text-align: right;\n",
       "    }\n",
       "</style>\n",
       "<table border=\"1\" class=\"dataframe\">\n",
       "  <thead>\n",
       "    <tr style=\"text-align: right;\">\n",
       "      <th></th>\n",
       "      <th>0</th>\n",
       "      <th>1</th>\n",
       "      <th>2</th>\n",
       "      <th>3</th>\n",
       "      <th>4</th>\n",
       "    </tr>\n",
       "  </thead>\n",
       "  <tbody>\n",
       "    <tr>\n",
       "      <th>Country</th>\n",
       "      <td>Afghanistan</td>\n",
       "      <td>Albania</td>\n",
       "      <td>Algeria</td>\n",
       "      <td>Angola</td>\n",
       "      <td>Antigua and Barbuda</td>\n",
       "    </tr>\n",
       "    <tr>\n",
       "      <th>Total investment</th>\n",
       "      <td>18.192</td>\n",
       "      <td>22.752</td>\n",
       "      <td>42.658</td>\n",
       "      <td>19.786</td>\n",
       "      <td>33.239</td>\n",
       "    </tr>\n",
       "    <tr>\n",
       "      <th>Inflation, average consumer prices</th>\n",
       "      <td>114.264</td>\n",
       "      <td>106.878</td>\n",
       "      <td>206.200</td>\n",
       "      <td>352.664</td>\n",
       "      <td>101.083</td>\n",
       "    </tr>\n",
       "    <tr>\n",
       "      <th>Inflation, end of period consumer prices</th>\n",
       "      <td>116.300</td>\n",
       "      <td>107.103</td>\n",
       "      <td>207.900</td>\n",
       "      <td>381.299</td>\n",
       "      <td>101.640</td>\n",
       "    </tr>\n",
       "    <tr>\n",
       "      <th>Six-month London interbank offered rate (LIBOR)</th>\n",
       "      <td>NaN</td>\n",
       "      <td>NaN</td>\n",
       "      <td>NaN</td>\n",
       "      <td>NaN</td>\n",
       "      <td>NaN</td>\n",
       "    </tr>\n",
       "    <tr>\n",
       "      <th>Volume of imports of goods and services</th>\n",
       "      <td>-7.862</td>\n",
       "      <td>4.721</td>\n",
       "      <td>-0.027</td>\n",
       "      <td>-11.289</td>\n",
       "      <td>-1.191</td>\n",
       "    </tr>\n",
       "    <tr>\n",
       "      <th>Volume of Imports of goods</th>\n",
       "      <td>-5.758</td>\n",
       "      <td>3.461</td>\n",
       "      <td>1.758</td>\n",
       "      <td>-7.894</td>\n",
       "      <td>-5.149</td>\n",
       "    </tr>\n",
       "    <tr>\n",
       "      <th>Volume of exports of goods and services</th>\n",
       "      <td>-5.116</td>\n",
       "      <td>1.699</td>\n",
       "      <td>-3.636</td>\n",
       "      <td>0.227</td>\n",
       "      <td>8.048</td>\n",
       "    </tr>\n",
       "    <tr>\n",
       "      <th>Volume of exports of goods</th>\n",
       "      <td>0.068</td>\n",
       "      <td>-8.454</td>\n",
       "      <td>-5.125</td>\n",
       "      <td>0.496</td>\n",
       "      <td>8.555</td>\n",
       "    </tr>\n",
       "    <tr>\n",
       "      <th>Unemployment rate</th>\n",
       "      <td>NaN</td>\n",
       "      <td>11.5</td>\n",
       "      <td>11.383</td>\n",
       "      <td>NaN</td>\n",
       "      <td>NaN</td>\n",
       "    </tr>\n",
       "    <tr>\n",
       "      <th>Employment</th>\n",
       "      <td>NaN</td>\n",
       "      <td>NaN</td>\n",
       "      <td>NaN</td>\n",
       "      <td>NaN</td>\n",
       "      <td>NaN</td>\n",
       "    </tr>\n",
       "    <tr>\n",
       "      <th>Population</th>\n",
       "      <td>37.209</td>\n",
       "      <td>2.870</td>\n",
       "      <td>43.424</td>\n",
       "      <td>30.128</td>\n",
       "      <td>0.097</td>\n",
       "    </tr>\n",
       "    <tr>\n",
       "      <th>General government revenue</th>\n",
       "      <td>395.923</td>\n",
       "      <td>460.314</td>\n",
       "      <td>6,586.500</td>\n",
       "      <td>6,529.102</td>\n",
       "      <td>0.849</td>\n",
       "    </tr>\n",
       "    <tr>\n",
       "      <th>General government total expenditure</th>\n",
       "      <td>411.473</td>\n",
       "      <td>493.165</td>\n",
       "      <td>7,725.477</td>\n",
       "      <td>6,270.786</td>\n",
       "      <td>1.031</td>\n",
       "    </tr>\n",
       "    <tr>\n",
       "      <th>General government net lending/borrowing</th>\n",
       "      <td>-15.550</td>\n",
       "      <td>-32.851</td>\n",
       "      <td>-1,138.977</td>\n",
       "      <td>258.316</td>\n",
       "      <td>-0.181</td>\n",
       "    </tr>\n",
       "    <tr>\n",
       "      <th>General government structural balance</th>\n",
       "      <td>NaN</td>\n",
       "      <td>NaN</td>\n",
       "      <td>NaN</td>\n",
       "      <td>365.929</td>\n",
       "      <td>NaN</td>\n",
       "    </tr>\n",
       "    <tr>\n",
       "      <th>General government primary net lending/borrowing</th>\n",
       "      <td>-14.971</td>\n",
       "      <td>2.291</td>\n",
       "      <td>-1,263.335</td>\n",
       "      <td>1,961.720</td>\n",
       "      <td>-0.056</td>\n",
       "    </tr>\n",
       "    <tr>\n",
       "      <th>General government net debt</th>\n",
       "      <td>NaN</td>\n",
       "      <td>1,000.201</td>\n",
       "      <td>6,167.007</td>\n",
       "      <td>NaN</td>\n",
       "      <td>NaN</td>\n",
       "    </tr>\n",
       "    <tr>\n",
       "      <th>General government gross debt</th>\n",
       "      <td>90.092</td>\n",
       "      <td>1,137.099</td>\n",
       "      <td>9,349.221</td>\n",
       "      <td>35,626.289</td>\n",
       "      <td>3.790</td>\n",
       "    </tr>\n",
       "    <tr>\n",
       "      <th>Current account balance</th>\n",
       "      <td>2.209</td>\n",
       "      <td>-1.166</td>\n",
       "      <td>-17.112</td>\n",
       "      <td>5.132</td>\n",
       "      <td>-0.108</td>\n",
       "    </tr>\n",
       "    <tr>\n",
       "      <th>Gross domestic product, constant prices</th>\n",
       "      <td>1,319.902</td>\n",
       "      <td>839.449</td>\n",
       "      <td>7,527.523</td>\n",
       "      <td>1,553.430</td>\n",
       "      <td>3.619</td>\n",
       "    </tr>\n",
       "  </tbody>\n",
       "</table>\n",
       "</div>"
      ],
      "text/plain": [
       "                                                            0          1  \\\n",
       "Country                                           Afghanistan    Albania   \n",
       "Total investment                                       18.192     22.752   \n",
       "Inflation, average consumer prices                    114.264    106.878   \n",
       "Inflation, end of period consumer prices              116.300    107.103   \n",
       "Six-month London interbank offered rate (LIBOR)           NaN        NaN   \n",
       "Volume of imports of goods and services                -7.862      4.721   \n",
       "Volume of Imports of goods                             -5.758      3.461   \n",
       "Volume of exports of goods and services                -5.116      1.699   \n",
       "Volume of exports of goods                              0.068     -8.454   \n",
       "Unemployment rate                                         NaN       11.5   \n",
       "Employment                                                NaN        NaN   \n",
       "Population                                             37.209      2.870   \n",
       "General government revenue                            395.923    460.314   \n",
       "General government total expenditure                  411.473    493.165   \n",
       "General government net lending/borrowing              -15.550    -32.851   \n",
       "General government structural balance                     NaN        NaN   \n",
       "General government primary net lending/borrowing      -14.971      2.291   \n",
       "General government net debt                               NaN  1,000.201   \n",
       "General government gross debt                          90.092  1,137.099   \n",
       "Current account balance                                 2.209     -1.166   \n",
       "Gross domestic product, constant prices             1,319.902    839.449   \n",
       "\n",
       "                                                           2           3  \\\n",
       "Country                                              Algeria      Angola   \n",
       "Total investment                                      42.658      19.786   \n",
       "Inflation, average consumer prices                   206.200     352.664   \n",
       "Inflation, end of period consumer prices             207.900     381.299   \n",
       "Six-month London interbank offered rate (LIBOR)          NaN         NaN   \n",
       "Volume of imports of goods and services               -0.027     -11.289   \n",
       "Volume of Imports of goods                             1.758      -7.894   \n",
       "Volume of exports of goods and services               -3.636       0.227   \n",
       "Volume of exports of goods                            -5.125       0.496   \n",
       "Unemployment rate                                     11.383         NaN   \n",
       "Employment                                               NaN         NaN   \n",
       "Population                                            43.424      30.128   \n",
       "General government revenue                         6,586.500   6,529.102   \n",
       "General government total expenditure               7,725.477   6,270.786   \n",
       "General government net lending/borrowing          -1,138.977     258.316   \n",
       "General government structural balance                    NaN     365.929   \n",
       "General government primary net lending/borrowing  -1,263.335   1,961.720   \n",
       "General government net debt                        6,167.007         NaN   \n",
       "General government gross debt                      9,349.221  35,626.289   \n",
       "Current account balance                              -17.112       5.132   \n",
       "Gross domestic product, constant prices            7,527.523   1,553.430   \n",
       "\n",
       "                                                                    4  \n",
       "Country                                           Antigua and Barbuda  \n",
       "Total investment                                               33.239  \n",
       "Inflation, average consumer prices                            101.083  \n",
       "Inflation, end of period consumer prices                      101.640  \n",
       "Six-month London interbank offered rate (LIBOR)                   NaN  \n",
       "Volume of imports of goods and services                        -1.191  \n",
       "Volume of Imports of goods                                     -5.149  \n",
       "Volume of exports of goods and services                         8.048  \n",
       "Volume of exports of goods                                      8.555  \n",
       "Unemployment rate                                                 NaN  \n",
       "Employment                                                        NaN  \n",
       "Population                                                      0.097  \n",
       "General government revenue                                      0.849  \n",
       "General government total expenditure                            1.031  \n",
       "General government net lending/borrowing                       -0.181  \n",
       "General government structural balance                             NaN  \n",
       "General government primary net lending/borrowing               -0.056  \n",
       "General government net debt                                       NaN  \n",
       "General government gross debt                                   3.790  \n",
       "Current account balance                                        -0.108  \n",
       "Gross domestic product, constant prices                         3.619  "
      ]
     },
     "execution_count": 366,
     "metadata": {},
     "output_type": "execute_result"
    }
   ],
   "source": [
    "df_2019.head().T"
   ]
  },
  {
   "cell_type": "code",
   "execution_count": 367,
   "metadata": {},
   "outputs": [
    {
     "data": {
      "text/plain": [
       "Country                                               0\n",
       "Total investment                                     24\n",
       "Inflation, average consumer prices                    2\n",
       "Inflation, end of period consumer prices              2\n",
       "Six-month London interbank offered rate (LIBOR)     193\n",
       "Volume of imports of goods and services              18\n",
       "Volume of Imports of goods                           18\n",
       "Volume of exports of goods and services              17\n",
       "Volume of exports of goods                           18\n",
       "Unemployment rate                                    89\n",
       "Employment                                          157\n",
       "Population                                            2\n",
       "General government revenue                            1\n",
       "General government total expenditure                  2\n",
       "General government net lending/borrowing              2\n",
       "General government structural balance               109\n",
       "General government primary net lending/borrowing     10\n",
       "General government net debt                         107\n",
       "General government gross debt                         5\n",
       "Current account balance                               2\n",
       "Gross domestic product, constant prices               1\n",
       "dtype: int64"
      ]
     },
     "execution_count": 367,
     "metadata": {},
     "output_type": "execute_result"
    }
   ],
   "source": [
    "df_2019.isnull().sum()"
   ]
  },
  {
   "cell_type": "code",
   "execution_count": 371,
   "metadata": {},
   "outputs": [],
   "source": [
    "df_2019.drop(['Six-month London interbank offered rate (LIBOR)', 'Employment',\n",
    "              'General government structural balance', \n",
    "              'General government net debt', 'Country'], axis = 1, inplace=True)"
   ]
  },
  {
   "cell_type": "code",
   "execution_count": 372,
   "metadata": {},
   "outputs": [
    {
     "data": {
      "text/plain": [
       "Total investment                                    float64\n",
       "Inflation, average consumer prices                   object\n",
       "Inflation, end of period consumer prices             object\n",
       "Volume of imports of goods and services             float64\n",
       "Volume of Imports of goods                          float64\n",
       "Volume of exports of goods and services             float64\n",
       "Volume of exports of goods                          float64\n",
       "Unemployment rate                                   float64\n",
       "Population                                           object\n",
       "General government revenue                           object\n",
       "General government total expenditure                 object\n",
       "General government net lending/borrowing             object\n",
       "General government primary net lending/borrowing     object\n",
       "General government gross debt                        object\n",
       "Current account balance                             float64\n",
       "Gross domestic product, constant prices              object\n",
       "dtype: object"
      ]
     },
     "execution_count": 372,
     "metadata": {},
     "output_type": "execute_result"
    }
   ],
   "source": [
    "df_2019.dtypes"
   ]
  },
  {
   "cell_type": "code",
   "execution_count": 374,
   "metadata": {},
   "outputs": [],
   "source": [
    "columns = df_2019.columns"
   ]
  },
  {
   "cell_type": "code",
   "execution_count": 378,
   "metadata": {},
   "outputs": [],
   "source": [
    "columns = ['Inflation, average consumer prices',\n",
    "       'Inflation, end of period consumer prices',\n",
    "       'Population', 'General government revenue',\n",
    "       'General government total expenditure',\n",
    "       'General government net lending/borrowing',\n",
    "       'General government primary net lending/borrowing',\n",
    "       'General government gross debt',\n",
    "       'Gross domestic product, constant prices']"
   ]
  },
  {
   "cell_type": "code",
   "execution_count": 380,
   "metadata": {},
   "outputs": [],
   "source": [
    "for i in columns:\n",
    "    df_2019[i] = df_2019[i].str.replace(',', '')\n",
    "    df_2019[i] = pd.to_numeric(df_2019[i], errors='coerce')"
   ]
  },
  {
   "cell_type": "code",
   "execution_count": 381,
   "metadata": {},
   "outputs": [
    {
     "data": {
      "text/plain": [
       "Total investment                                    float64\n",
       "Inflation, average consumer prices                  float64\n",
       "Inflation, end of period consumer prices            float64\n",
       "Volume of imports of goods and services             float64\n",
       "Volume of Imports of goods                          float64\n",
       "Volume of exports of goods and services             float64\n",
       "Volume of exports of goods                          float64\n",
       "Unemployment rate                                   float64\n",
       "Population                                          float64\n",
       "General government revenue                          float64\n",
       "General government total expenditure                float64\n",
       "General government net lending/borrowing            float64\n",
       "General government primary net lending/borrowing    float64\n",
       "General government gross debt                       float64\n",
       "Current account balance                             float64\n",
       "Gross domestic product, constant prices             float64\n",
       "dtype: object"
      ]
     },
     "execution_count": 381,
     "metadata": {},
     "output_type": "execute_result"
    }
   ],
   "source": [
    "df_2019.dtypes"
   ]
  },
  {
   "cell_type": "code",
   "execution_count": 385,
   "metadata": {},
   "outputs": [
    {
     "data": {
      "text/plain": [
       "Total investment                                    24\n",
       "Inflation, average consumer prices                   2\n",
       "Inflation, end of period consumer prices             2\n",
       "Volume of imports of goods and services             18\n",
       "Volume of Imports of goods                          18\n",
       "Volume of exports of goods and services             17\n",
       "Volume of exports of goods                          18\n",
       "Unemployment rate                                   89\n",
       "Population                                           2\n",
       "General government revenue                           1\n",
       "General government total expenditure                 2\n",
       "General government net lending/borrowing             2\n",
       "General government primary net lending/borrowing    10\n",
       "General government gross debt                        5\n",
       "Current account balance                              2\n",
       "Gross domestic product, constant prices              2\n",
       "dtype: int64"
      ]
     },
     "execution_count": 385,
     "metadata": {},
     "output_type": "execute_result"
    }
   ],
   "source": [
    "df_2019.isnull().sum()"
   ]
  },
  {
   "cell_type": "code",
   "execution_count": 390,
   "metadata": {},
   "outputs": [],
   "source": [
    "df_2019 = df_2019.apply(lambda x: x.fillna(x.mean()),axis=0)"
   ]
  },
  {
   "cell_type": "code",
   "execution_count": 391,
   "metadata": {},
   "outputs": [
    {
     "data": {
      "text/plain": [
       "Total investment                                    0\n",
       "Inflation, average consumer prices                  0\n",
       "Inflation, end of period consumer prices            0\n",
       "Volume of imports of goods and services             0\n",
       "Volume of Imports of goods                          0\n",
       "Volume of exports of goods and services             0\n",
       "Volume of exports of goods                          0\n",
       "Unemployment rate                                   0\n",
       "Population                                          0\n",
       "General government revenue                          0\n",
       "General government total expenditure                0\n",
       "General government net lending/borrowing            0\n",
       "General government primary net lending/borrowing    0\n",
       "General government gross debt                       0\n",
       "Current account balance                             0\n",
       "Gross domestic product, constant prices             0\n",
       "dtype: int64"
      ]
     },
     "execution_count": 391,
     "metadata": {},
     "output_type": "execute_result"
    }
   ],
   "source": [
    "df_2019.isnull().sum()"
   ]
  },
  {
   "cell_type": "code",
   "execution_count": 392,
   "metadata": {},
   "outputs": [
    {
     "data": {
      "text/html": [
       "<div>\n",
       "<style scoped>\n",
       "    .dataframe tbody tr th:only-of-type {\n",
       "        vertical-align: middle;\n",
       "    }\n",
       "\n",
       "    .dataframe tbody tr th {\n",
       "        vertical-align: top;\n",
       "    }\n",
       "\n",
       "    .dataframe thead th {\n",
       "        text-align: right;\n",
       "    }\n",
       "</style>\n",
       "<table border=\"1\" class=\"dataframe\">\n",
       "  <thead>\n",
       "    <tr style=\"text-align: right;\">\n",
       "      <th></th>\n",
       "      <th>0</th>\n",
       "      <th>1</th>\n",
       "      <th>2</th>\n",
       "      <th>3</th>\n",
       "      <th>4</th>\n",
       "    </tr>\n",
       "  </thead>\n",
       "  <tbody>\n",
       "    <tr>\n",
       "      <th>Total investment</th>\n",
       "      <td>18.192000</td>\n",
       "      <td>22.752</td>\n",
       "      <td>42.658</td>\n",
       "      <td>19.786000</td>\n",
       "      <td>33.239000</td>\n",
       "    </tr>\n",
       "    <tr>\n",
       "      <th>Inflation, average consumer prices</th>\n",
       "      <td>114.264000</td>\n",
       "      <td>106.878</td>\n",
       "      <td>206.200</td>\n",
       "      <td>352.664000</td>\n",
       "      <td>101.083000</td>\n",
       "    </tr>\n",
       "    <tr>\n",
       "      <th>Inflation, end of period consumer prices</th>\n",
       "      <td>116.300000</td>\n",
       "      <td>107.103</td>\n",
       "      <td>207.900</td>\n",
       "      <td>381.299000</td>\n",
       "      <td>101.640000</td>\n",
       "    </tr>\n",
       "    <tr>\n",
       "      <th>Volume of imports of goods and services</th>\n",
       "      <td>-7.862000</td>\n",
       "      <td>4.721</td>\n",
       "      <td>-0.027</td>\n",
       "      <td>-11.289000</td>\n",
       "      <td>-1.191000</td>\n",
       "    </tr>\n",
       "    <tr>\n",
       "      <th>Volume of Imports of goods</th>\n",
       "      <td>-5.758000</td>\n",
       "      <td>3.461</td>\n",
       "      <td>1.758</td>\n",
       "      <td>-7.894000</td>\n",
       "      <td>-5.149000</td>\n",
       "    </tr>\n",
       "    <tr>\n",
       "      <th>Volume of exports of goods and services</th>\n",
       "      <td>-5.116000</td>\n",
       "      <td>1.699</td>\n",
       "      <td>-3.636</td>\n",
       "      <td>0.227000</td>\n",
       "      <td>8.048000</td>\n",
       "    </tr>\n",
       "    <tr>\n",
       "      <th>Volume of exports of goods</th>\n",
       "      <td>0.068000</td>\n",
       "      <td>-8.454</td>\n",
       "      <td>-5.125</td>\n",
       "      <td>0.496000</td>\n",
       "      <td>8.555000</td>\n",
       "    </tr>\n",
       "    <tr>\n",
       "      <th>Unemployment rate</th>\n",
       "      <td>7.458689</td>\n",
       "      <td>11.500</td>\n",
       "      <td>11.383</td>\n",
       "      <td>7.458689</td>\n",
       "      <td>7.458689</td>\n",
       "    </tr>\n",
       "    <tr>\n",
       "      <th>Population</th>\n",
       "      <td>37.209000</td>\n",
       "      <td>2.870</td>\n",
       "      <td>43.424</td>\n",
       "      <td>30.128000</td>\n",
       "      <td>0.097000</td>\n",
       "    </tr>\n",
       "    <tr>\n",
       "      <th>General government revenue</th>\n",
       "      <td>395.923000</td>\n",
       "      <td>460.314</td>\n",
       "      <td>6586.500</td>\n",
       "      <td>6529.102000</td>\n",
       "      <td>0.849000</td>\n",
       "    </tr>\n",
       "    <tr>\n",
       "      <th>General government total expenditure</th>\n",
       "      <td>411.473000</td>\n",
       "      <td>493.165</td>\n",
       "      <td>7725.477</td>\n",
       "      <td>6270.786000</td>\n",
       "      <td>1.031000</td>\n",
       "    </tr>\n",
       "    <tr>\n",
       "      <th>General government net lending/borrowing</th>\n",
       "      <td>-15.550000</td>\n",
       "      <td>-32.851</td>\n",
       "      <td>-1138.977</td>\n",
       "      <td>258.316000</td>\n",
       "      <td>-0.181000</td>\n",
       "    </tr>\n",
       "    <tr>\n",
       "      <th>General government primary net lending/borrowing</th>\n",
       "      <td>-14.971000</td>\n",
       "      <td>2.291</td>\n",
       "      <td>-1263.335</td>\n",
       "      <td>1961.720000</td>\n",
       "      <td>-0.056000</td>\n",
       "    </tr>\n",
       "    <tr>\n",
       "      <th>General government gross debt</th>\n",
       "      <td>90.092000</td>\n",
       "      <td>1137.099</td>\n",
       "      <td>9349.221</td>\n",
       "      <td>35626.289000</td>\n",
       "      <td>3.790000</td>\n",
       "    </tr>\n",
       "    <tr>\n",
       "      <th>Current account balance</th>\n",
       "      <td>2.209000</td>\n",
       "      <td>-1.166</td>\n",
       "      <td>-17.112</td>\n",
       "      <td>5.132000</td>\n",
       "      <td>-0.108000</td>\n",
       "    </tr>\n",
       "    <tr>\n",
       "      <th>Gross domestic product, constant prices</th>\n",
       "      <td>1319.902000</td>\n",
       "      <td>839.449</td>\n",
       "      <td>7527.523</td>\n",
       "      <td>1553.430000</td>\n",
       "      <td>3.619000</td>\n",
       "    </tr>\n",
       "  </tbody>\n",
       "</table>\n",
       "</div>"
      ],
      "text/plain": [
       "                                                            0         1  \\\n",
       "Total investment                                    18.192000    22.752   \n",
       "Inflation, average consumer prices                 114.264000   106.878   \n",
       "Inflation, end of period consumer prices           116.300000   107.103   \n",
       "Volume of imports of goods and services             -7.862000     4.721   \n",
       "Volume of Imports of goods                          -5.758000     3.461   \n",
       "Volume of exports of goods and services             -5.116000     1.699   \n",
       "Volume of exports of goods                           0.068000    -8.454   \n",
       "Unemployment rate                                    7.458689    11.500   \n",
       "Population                                          37.209000     2.870   \n",
       "General government revenue                         395.923000   460.314   \n",
       "General government total expenditure               411.473000   493.165   \n",
       "General government net lending/borrowing           -15.550000   -32.851   \n",
       "General government primary net lending/borrowing   -14.971000     2.291   \n",
       "General government gross debt                       90.092000  1137.099   \n",
       "Current account balance                              2.209000    -1.166   \n",
       "Gross domestic product, constant prices           1319.902000   839.449   \n",
       "\n",
       "                                                         2             3  \\\n",
       "Total investment                                    42.658     19.786000   \n",
       "Inflation, average consumer prices                 206.200    352.664000   \n",
       "Inflation, end of period consumer prices           207.900    381.299000   \n",
       "Volume of imports of goods and services             -0.027    -11.289000   \n",
       "Volume of Imports of goods                           1.758     -7.894000   \n",
       "Volume of exports of goods and services             -3.636      0.227000   \n",
       "Volume of exports of goods                          -5.125      0.496000   \n",
       "Unemployment rate                                   11.383      7.458689   \n",
       "Population                                          43.424     30.128000   \n",
       "General government revenue                        6586.500   6529.102000   \n",
       "General government total expenditure              7725.477   6270.786000   \n",
       "General government net lending/borrowing         -1138.977    258.316000   \n",
       "General government primary net lending/borrowing -1263.335   1961.720000   \n",
       "General government gross debt                     9349.221  35626.289000   \n",
       "Current account balance                            -17.112      5.132000   \n",
       "Gross domestic product, constant prices           7527.523   1553.430000   \n",
       "\n",
       "                                                           4  \n",
       "Total investment                                   33.239000  \n",
       "Inflation, average consumer prices                101.083000  \n",
       "Inflation, end of period consumer prices          101.640000  \n",
       "Volume of imports of goods and services            -1.191000  \n",
       "Volume of Imports of goods                         -5.149000  \n",
       "Volume of exports of goods and services             8.048000  \n",
       "Volume of exports of goods                          8.555000  \n",
       "Unemployment rate                                   7.458689  \n",
       "Population                                          0.097000  \n",
       "General government revenue                          0.849000  \n",
       "General government total expenditure                1.031000  \n",
       "General government net lending/borrowing           -0.181000  \n",
       "General government primary net lending/borrowing   -0.056000  \n",
       "General government gross debt                       3.790000  \n",
       "Current account balance                            -0.108000  \n",
       "Gross domestic product, constant prices             3.619000  "
      ]
     },
     "execution_count": 392,
     "metadata": {},
     "output_type": "execute_result"
    }
   ],
   "source": [
    "df_2019.head().T"
   ]
  },
  {
   "cell_type": "code",
   "execution_count": 553,
   "metadata": {},
   "outputs": [
    {
     "data": {
      "image/png": "[encoded data removed]",
      "text/plain": [
       "<Figure size 1152x720 with 2 Axes>"
      ]
     },
     "metadata": {
      "needs_background": "light"
     },
     "output_type": "display_data"
    }
   ],
   "source": [
    "plt.figure(figsize=(16,10))\n",
    "sns.heatmap(df_2019.corr(),annot=True);"
   ]
  },
  {
   "cell_type": "code",
   "execution_count": 555,
   "metadata": {},
   "outputs": [],
   "source": [
    "from sklearn import preprocessing, svm\n",
    "from sklearn.tree import DecisionTreeRegressor\n",
    "from sklearn.linear_model import LinearRegression\n",
    "from sklearn.model_selection import train_test_split, KFold, GridSearchCV, cross_val_score\n",
    "from sklearn.metrics import  mean_squared_error\n"
   ]
  },
  {
   "cell_type": "code",
   "execution_count": 556,
   "metadata": {},
   "outputs": [],
   "source": [
    "kf = KFold(n_splits=10)"
   ]
  },
  {
   "cell_type": "code",
   "execution_count": 557,
   "metadata": {},
   "outputs": [],
   "source": [
    "X = df_2019.drop(['Gross domestic product, constant prices'], 1)\n",
    "y = df_2019['Gross domestic product, constant prices']"
   ]
  },
  {
   "cell_type": "code",
   "execution_count": 558,
   "metadata": {},
   "outputs": [
    {
     "name": "stderr",
     "output_type": "stream",
     "text": [
      "/Applications/anaconda3/lib/python3.8/site-packages/sklearn/preprocessing/_data.py:174: UserWarning: Numerical issues were encountered when centering the data and might not be solved. Dataset may contain too large values. You may need to prescale your features.\n",
      "  warnings.warn(\"Numerical issues were encountered \"\n"
     ]
    }
   ],
   "source": [
    "X = preprocessing.scale(X)"
   ]
  },
  {
   "cell_type": "code",
   "execution_count": 559,
   "metadata": {},
   "outputs": [],
   "source": [
    "X_train, X_test, y_train, y_test = train_test_split(X, y, test_size=0.3)"
   ]
  },
  {
   "cell_type": "code",
   "execution_count": 560,
   "metadata": {},
   "outputs": [
    {
     "data": {
      "text/plain": [
       "(136, 15)"
      ]
     },
     "execution_count": 560,
     "metadata": {},
     "output_type": "execute_result"
    }
   ],
   "source": [
    "X_train.shape"
   ]
  },
  {
   "cell_type": "code",
   "execution_count": 561,
   "metadata": {},
   "outputs": [
    {
     "data": {
      "text/plain": [
       "(136,)"
      ]
     },
     "execution_count": 561,
     "metadata": {},
     "output_type": "execute_result"
    }
   ],
   "source": [
    "y_train.shape"
   ]
  },
  {
   "cell_type": "code",
   "execution_count": 562,
   "metadata": {},
   "outputs": [
    {
     "data": {
      "text/plain": [
       "(59, 15)"
      ]
     },
     "execution_count": 562,
     "metadata": {},
     "output_type": "execute_result"
    }
   ],
   "source": [
    "X_test.shape"
   ]
  },
  {
   "cell_type": "code",
   "execution_count": 563,
   "metadata": {},
   "outputs": [
    {
     "data": {
      "text/plain": [
       "(59,)"
      ]
     },
     "execution_count": 563,
     "metadata": {},
     "output_type": "execute_result"
    }
   ],
   "source": [
    "y_test.shape"
   ]
  },
  {
   "cell_type": "code",
   "execution_count": 564,
   "metadata": {},
   "outputs": [],
   "source": [
    "LR_model = LinearRegression()\n"
   ]
  },
  {
   "cell_type": "code",
   "execution_count": 565,
   "metadata": {},
   "outputs": [
    {
     "data": {
      "text/plain": [
       "LinearRegression()"
      ]
     },
     "execution_count": 565,
     "metadata": {},
     "output_type": "execute_result"
    }
   ],
   "source": [
    "LR_model.fit(X_train, y_train)"
   ]
  },
  {
   "cell_type": "code",
   "execution_count": 566,
   "metadata": {},
   "outputs": [
    {
     "data": {
      "text/plain": [
       "array([ 1.73941837e-15, -7.25496939e-02, -7.25642140e-02,  6.26658307e-17,\n",
       "        6.97404959e-17,  2.19717051e+00, -7.13625602e-17,  3.41616129e-16,\n",
       "       -2.71451654e-01, -1.53287919e-01, -1.44937815e-01,  1.07724569e-01,\n",
       "        9.31980038e-02, -1.40058321e-01, -4.42301719e-02])"
      ]
     },
     "execution_count": 566,
     "metadata": {},
     "output_type": "execute_result"
    }
   ],
   "source": [
    "X_train[1]"
   ]
  },
  {
   "cell_type": "code",
   "execution_count": 567,
   "metadata": {},
   "outputs": [
    {
     "data": {
      "text/plain": [
       "array([574.69443237])"
      ]
     },
     "execution_count": 567,
     "metadata": {},
     "output_type": "execute_result"
    }
   ],
   "source": [
    "LR_model.predict([X_train[4]])"
   ]
  },
  {
   "cell_type": "code",
   "execution_count": 568,
   "metadata": {},
   "outputs": [],
   "source": [
    "train_preds = LR_model.predict(X_train)"
   ]
  },
  {
   "cell_type": "code",
   "execution_count": 569,
   "metadata": {},
   "outputs": [
    {
     "name": "stdout",
     "output_type": "stream",
     "text": [
      "99696931.129173\n"
     ]
    }
   ],
   "source": [
    "print(format(mean_squared_error(y_train, train_preds), 'f'))"
   ]
  },
  {
   "cell_type": "code",
   "execution_count": 570,
   "metadata": {},
   "outputs": [],
   "source": [
    "DT_model = DecisionTreeRegressor(max_depth=5)"
   ]
  },
  {
   "cell_type": "code",
   "execution_count": 571,
   "metadata": {},
   "outputs": [
    {
     "data": {
      "text/plain": [
       "DecisionTreeRegressor(max_depth=5)"
      ]
     },
     "execution_count": 571,
     "metadata": {},
     "output_type": "execute_result"
    }
   ],
   "source": [
    "DT_model.fit(X_train, y_train)"
   ]
  },
  {
   "cell_type": "code",
   "execution_count": 572,
   "metadata": {},
   "outputs": [],
   "source": [
    "train_preds = DT_model.predict(X_train)\n"
   ]
  },
  {
   "cell_type": "code",
   "execution_count": 573,
   "metadata": {},
   "outputs": [
    {
     "name": "stdout",
     "output_type": "stream",
     "text": [
      "1786578.069317\n"
     ]
    }
   ],
   "source": [
    "print(format(mean_squared_error(y_train, train_preds), 'f'))"
   ]
  },
  {
   "cell_type": "code",
   "execution_count": 574,
   "metadata": {},
   "outputs": [
    {
     "data": {
      "text/plain": [
       "[0.002244761095772582,\n",
       " 0.0,\n",
       " 0.0,\n",
       " 0.0006832318157353891,\n",
       " 0.0,\n",
       " 0.0,\n",
       " 0.0018889256051941483,\n",
       " 0.00015927655832245343,\n",
       " 0.001413601946282497,\n",
       " 0.7599942500883282,\n",
       " 0.018323009790802244,\n",
       " 0.0,\n",
       " 0.20656609118302383,\n",
       " 0.008726851916538856,\n",
       " 0.0]"
      ]
     },
     "execution_count": 574,
     "metadata": {},
     "output_type": "execute_result"
    }
   ],
   "source": [
    "list(DT_model.feature_importances_)"
   ]
  },
  {
   "cell_type": "code",
   "execution_count": 581,
   "metadata": {},
   "outputs": [],
   "source": [
    "important_cols = ['Total investment',\n",
    "        'General government revenue',\n",
    "       'General government total expenditure',\n",
    "       'General government primary net lending/borrowing',\n",
    "       'General government gross debt',\n",
    "        'Gross domestic product, constant prices']"
   ]
  },
  {
   "cell_type": "code",
   "execution_count": 582,
   "metadata": {},
   "outputs": [],
   "source": [
    "df_2019_imp = df_2019[important_cols]"
   ]
  },
  {
   "cell_type": "code",
   "execution_count": 583,
   "metadata": {},
   "outputs": [
    {
     "data": {
      "text/html": [
       "<div>\n",
       "<style scoped>\n",
       "    .dataframe tbody tr th:only-of-type {\n",
       "        vertical-align: middle;\n",
       "    }\n",
       "\n",
       "    .dataframe tbody tr th {\n",
       "        vertical-align: top;\n",
       "    }\n",
       "\n",
       "    .dataframe thead th {\n",
       "        text-align: right;\n",
       "    }\n",
       "</style>\n",
       "<table border=\"1\" class=\"dataframe\">\n",
       "  <thead>\n",
       "    <tr style=\"text-align: right;\">\n",
       "      <th></th>\n",
       "      <th>0</th>\n",
       "      <th>1</th>\n",
       "      <th>2</th>\n",
       "      <th>3</th>\n",
       "      <th>4</th>\n",
       "    </tr>\n",
       "  </thead>\n",
       "  <tbody>\n",
       "    <tr>\n",
       "      <th>Total investment</th>\n",
       "      <td>18.192</td>\n",
       "      <td>22.752</td>\n",
       "      <td>42.658</td>\n",
       "      <td>19.786</td>\n",
       "      <td>33.239</td>\n",
       "    </tr>\n",
       "    <tr>\n",
       "      <th>General government revenue</th>\n",
       "      <td>395.923</td>\n",
       "      <td>460.314</td>\n",
       "      <td>6586.500</td>\n",
       "      <td>6529.102</td>\n",
       "      <td>0.849</td>\n",
       "    </tr>\n",
       "    <tr>\n",
       "      <th>General government total expenditure</th>\n",
       "      <td>411.473</td>\n",
       "      <td>493.165</td>\n",
       "      <td>7725.477</td>\n",
       "      <td>6270.786</td>\n",
       "      <td>1.031</td>\n",
       "    </tr>\n",
       "    <tr>\n",
       "      <th>General government primary net lending/borrowing</th>\n",
       "      <td>-14.971</td>\n",
       "      <td>2.291</td>\n",
       "      <td>-1263.335</td>\n",
       "      <td>1961.720</td>\n",
       "      <td>-0.056</td>\n",
       "    </tr>\n",
       "    <tr>\n",
       "      <th>General government gross debt</th>\n",
       "      <td>90.092</td>\n",
       "      <td>1137.099</td>\n",
       "      <td>9349.221</td>\n",
       "      <td>35626.289</td>\n",
       "      <td>3.790</td>\n",
       "    </tr>\n",
       "    <tr>\n",
       "      <th>Gross domestic product, constant prices</th>\n",
       "      <td>1319.902</td>\n",
       "      <td>839.449</td>\n",
       "      <td>7527.523</td>\n",
       "      <td>1553.430</td>\n",
       "      <td>3.619</td>\n",
       "    </tr>\n",
       "  </tbody>\n",
       "</table>\n",
       "</div>"
      ],
      "text/plain": [
       "                                                         0         1  \\\n",
       "Total investment                                    18.192    22.752   \n",
       "General government revenue                         395.923   460.314   \n",
       "General government total expenditure               411.473   493.165   \n",
       "General government primary net lending/borrowing   -14.971     2.291   \n",
       "General government gross debt                       90.092  1137.099   \n",
       "Gross domestic product, constant prices           1319.902   839.449   \n",
       "\n",
       "                                                         2          3       4  \n",
       "Total investment                                    42.658     19.786  33.239  \n",
       "General government revenue                        6586.500   6529.102   0.849  \n",
       "General government total expenditure              7725.477   6270.786   1.031  \n",
       "General government primary net lending/borrowing -1263.335   1961.720  -0.056  \n",
       "General government gross debt                     9349.221  35626.289   3.790  \n",
       "Gross domestic product, constant prices           7527.523   1553.430   3.619  "
      ]
     },
     "execution_count": 583,
     "metadata": {},
     "output_type": "execute_result"
    }
   ],
   "source": [
    "df_2019_imp.head().T"
   ]
  },
  {
   "cell_type": "code",
   "execution_count": 584,
   "metadata": {},
   "outputs": [],
   "source": [
    "X = df_2019_imp.drop(['Gross domestic product, constant prices'], 1)\n",
    "y = df_2019_imp['Gross domestic product, constant prices']\n"
   ]
  },
  {
   "cell_type": "code",
   "execution_count": 585,
   "metadata": {},
   "outputs": [],
   "source": [
    "X = preprocessing.scale(X)"
   ]
  },
  {
   "cell_type": "code",
   "execution_count": 586,
   "metadata": {},
   "outputs": [],
   "source": [
    "X_train, X_test, y_train, y_test = train_test_split(X, y, test_size=0.3)"
   ]
  },
  {
   "cell_type": "code",
   "execution_count": 587,
   "metadata": {},
   "outputs": [
    {
     "data": {
      "text/plain": [
       "(136, 5)"
      ]
     },
     "execution_count": 587,
     "metadata": {},
     "output_type": "execute_result"
    }
   ],
   "source": [
    "X_train.shape"
   ]
  },
  {
   "cell_type": "code",
   "execution_count": 588,
   "metadata": {},
   "outputs": [
    {
     "data": {
      "text/plain": [
       "(136,)"
      ]
     },
     "execution_count": 588,
     "metadata": {},
     "output_type": "execute_result"
    }
   ],
   "source": [
    "y_train.shape"
   ]
  },
  {
   "cell_type": "code",
   "execution_count": 589,
   "metadata": {},
   "outputs": [
    {
     "data": {
      "text/plain": [
       "(59, 5)"
      ]
     },
     "execution_count": 589,
     "metadata": {},
     "output_type": "execute_result"
    }
   ],
   "source": [
    "X_test.shape"
   ]
  },
  {
   "cell_type": "code",
   "execution_count": 590,
   "metadata": {},
   "outputs": [
    {
     "data": {
      "text/plain": [
       "(59,)"
      ]
     },
     "execution_count": 590,
     "metadata": {},
     "output_type": "execute_result"
    }
   ],
   "source": [
    "y_test.shape"
   ]
  },
  {
   "cell_type": "code",
   "execution_count": 591,
   "metadata": {},
   "outputs": [],
   "source": [
    "DT_model = DecisionTreeRegressor(max_depth=5)"
   ]
  },
  {
   "cell_type": "code",
   "execution_count": 592,
   "metadata": {},
   "outputs": [
    {
     "data": {
      "text/plain": [
       "DecisionTreeRegressor(max_depth=5)"
      ]
     },
     "execution_count": 592,
     "metadata": {},
     "output_type": "execute_result"
    }
   ],
   "source": [
    "DT_model.fit(X_train, y_train)"
   ]
  },
  {
   "cell_type": "code",
   "execution_count": 594,
   "metadata": {},
   "outputs": [],
   "source": [
    "train_preds = DT_model.predict(X_train)"
   ]
  },
  {
   "cell_type": "code",
   "execution_count": 595,
   "metadata": {},
   "outputs": [
    {
     "name": "stdout",
     "output_type": "stream",
     "text": [
      "29940277.609299\n"
     ]
    }
   ],
   "source": [
    "print(format(mean_squared_error(y_train, train_preds), 'f'))"
   ]
  },
  {
   "cell_type": "code",
   "execution_count": 615,
   "metadata": {},
   "outputs": [
    {
     "data": {
      "text/plain": [
       "array([405.55921429])"
      ]
     },
     "execution_count": 615,
     "metadata": {},
     "output_type": "execute_result"
    }
   ],
   "source": [
    "DT_model.predict([X_train[0]])"
   ]
  },
  {
   "cell_type": "code",
   "execution_count": 612,
   "metadata": {},
   "outputs": [
    {
     "data": {
      "text/plain": [
       "numpy.ndarray"
      ]
     },
     "execution_count": 612,
     "metadata": {},
     "output_type": "execute_result"
    }
   ],
   "source": [
    "type(X_train[0])"
   ]
  },
  {
   "cell_type": "code",
   "execution_count": 613,
   "metadata": {},
   "outputs": [
    {
     "data": {
      "text/plain": [
       "array([-1.0507074 , -0.15282326, -0.14448443,  0.09285705, -0.13941786])"
      ]
     },
     "execution_count": 613,
     "metadata": {},
     "output_type": "execute_result"
    }
   ],
   "source": [
    "X_train[0]"
   ]
  },
  {
   "cell_type": "code",
   "execution_count": 599,
   "metadata": {},
   "outputs": [
    {
     "data": {
      "text/plain": [
       "1319.902"
      ]
     },
     "execution_count": 599,
     "metadata": {},
     "output_type": "execute_result"
    }
   ],
   "source": [
    "y_train[0]"
   ]
  },
  {
   "cell_type": "code",
   "execution_count": 600,
   "metadata": {},
   "outputs": [],
   "source": [
    "import pickle"
   ]
  },
  {
   "cell_type": "code",
   "execution_count": 608,
   "metadata": {},
   "outputs": [],
   "source": [
    "filename = 'model_decision_tree.pck'\n",
    "pickle.dump(DT_model, open(filename, 'wb'))"
   ]
  },
  {
   "cell_type": "code",
   "execution_count": 609,
   "metadata": {},
   "outputs": [],
   "source": [
    "loaded_model = pickle.load(open(filename, 'rb'))\n"
   ]
  },
  {
   "cell_type": "code",
   "execution_count": 610,
   "metadata": {},
   "outputs": [
    {
     "data": {
      "text/plain": [
       "array([405.55921429])"
      ]
     },
     "execution_count": 610,
     "metadata": {},
     "output_type": "execute_result"
    }
   ],
   "source": [
    "loaded_model.predict([X_train[0]])"
   ]
  },
  {
   "cell_type": "code",
   "execution_count": null,
   "metadata": {},
   "outputs": [],
   "source": []
  }
 ],
 "metadata": {
  "kernelspec": {
   "display_name": "Python 3",
   "language": "python",
   "name": "python3"
  },
  "language_info": {
   "codemirror_mode": {
    "name": "ipython",
    "version": 3
   },
   "file_extension": ".py",
   "mimetype": "text/x-python",
   "name": "python",
   "nbconvert_exporter": "python",
   "pygments_lexer": "ipython3",
   "version": "3.8.3"
  }
 },
 "nbformat": 4,
 "nbformat_minor": 4
}
