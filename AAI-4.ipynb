{
 "cells": [
  {
   "cell_type": "code",
   "execution_count": 1,
   "metadata": {},
   "outputs": [],
   "source": [
    "import pandas as pd\n",
    "import numpy as np\n",
    "import matplotlib.pyplot as plt\n",
    "import seaborn as sns\n",
    "from sklearn.cluster import KMeans\n",
    "from itertools import cycle"
   ]
  },
  {
   "cell_type": "code",
   "execution_count": 2,
   "metadata": {},
   "outputs": [],
   "source": [
    "df = pd.read_table('WEOOct2020all.tsv')"
   ]
  },
  {
   "cell_type": "code",
   "execution_count": 3,
   "metadata": {},
   "outputs": [
    {
     "data": {
      "text/html": [
       "<div>\n",
       "<style scoped>\n",
       "    .dataframe tbody tr th:only-of-type {\n",
       "        vertical-align: middle;\n",
       "    }\n",
       "\n",
       "    .dataframe tbody tr th {\n",
       "        vertical-align: top;\n",
       "    }\n",
       "\n",
       "    .dataframe thead th {\n",
       "        text-align: right;\n",
       "    }\n",
       "</style>\n",
       "<table border=\"1\" class=\"dataframe\">\n",
       "  <thead>\n",
       "    <tr style=\"text-align: right;\">\n",
       "      <th></th>\n",
       "      <th>WEO Country Code</th>\n",
       "      <th>ISO</th>\n",
       "      <th>WEO Subject Code</th>\n",
       "      <th>Country</th>\n",
       "      <th>Subject Descriptor</th>\n",
       "      <th>Subject Notes</th>\n",
       "      <th>Units</th>\n",
       "      <th>Scale</th>\n",
       "      <th>Country/Series-specific Notes</th>\n",
       "      <th>1980</th>\n",
       "      <th>...</th>\n",
       "      <th>2018</th>\n",
       "      <th>2019</th>\n",
       "      <th>2020</th>\n",
       "      <th>2021</th>\n",
       "      <th>2022</th>\n",
       "      <th>2023</th>\n",
       "      <th>2024</th>\n",
       "      <th>2025</th>\n",
       "      <th>Estimates Start After</th>\n",
       "      <th>Unnamed: 56</th>\n",
       "    </tr>\n",
       "  </thead>\n",
       "  <tbody>\n",
       "    <tr>\n",
       "      <th>0</th>\n",
       "      <td>512</td>\n",
       "      <td>AFG</td>\n",
       "      <td>NGDP_R</td>\n",
       "      <td>Afghanistan</td>\n",
       "      <td>Gross domestic product, constant prices</td>\n",
       "      <td>Expressed in billions of national currency uni...</td>\n",
       "      <td>National currency</td>\n",
       "      <td>Billions</td>\n",
       "      <td>Source: National Statistics Office Latest actu...</td>\n",
       "      <td>NaN</td>\n",
       "      <td>...</td>\n",
       "      <td>1,270.216</td>\n",
       "      <td>1,319.902</td>\n",
       "      <td>1,253.906</td>\n",
       "      <td>1,304.063</td>\n",
       "      <td>1,363.060</td>\n",
       "      <td>1,424.397</td>\n",
       "      <td>1,481.497</td>\n",
       "      <td>1,540.937</td>\n",
       "      <td>2019.0</td>\n",
       "      <td>NaN</td>\n",
       "    </tr>\n",
       "    <tr>\n",
       "      <th>1</th>\n",
       "      <td>512</td>\n",
       "      <td>AFG</td>\n",
       "      <td>NGDP_RPCH</td>\n",
       "      <td>Afghanistan</td>\n",
       "      <td>Gross domestic product, constant prices</td>\n",
       "      <td>Annual percentages of constant price GDP are y...</td>\n",
       "      <td>Percent change</td>\n",
       "      <td>NaN</td>\n",
       "      <td>See notes for:  Gross domestic product, consta...</td>\n",
       "      <td>NaN</td>\n",
       "      <td>...</td>\n",
       "      <td>1.189</td>\n",
       "      <td>3.912</td>\n",
       "      <td>-5.000</td>\n",
       "      <td>4.000</td>\n",
       "      <td>4.524</td>\n",
       "      <td>4.500</td>\n",
       "      <td>4.009</td>\n",
       "      <td>4.012</td>\n",
       "      <td>2019.0</td>\n",
       "      <td>NaN</td>\n",
       "    </tr>\n",
       "    <tr>\n",
       "      <th>2</th>\n",
       "      <td>512</td>\n",
       "      <td>AFG</td>\n",
       "      <td>NGDP</td>\n",
       "      <td>Afghanistan</td>\n",
       "      <td>Gross domestic product, current prices</td>\n",
       "      <td>Expressed in billions of national currency uni...</td>\n",
       "      <td>National currency</td>\n",
       "      <td>Billions</td>\n",
       "      <td>Source: National Statistics Office Latest actu...</td>\n",
       "      <td>NaN</td>\n",
       "      <td>...</td>\n",
       "      <td>1,327.690</td>\n",
       "      <td>1,469.596</td>\n",
       "      <td>1,465.922</td>\n",
       "      <td>1,597.738</td>\n",
       "      <td>1,741.832</td>\n",
       "      <td>1,893.023</td>\n",
       "      <td>2,047.665</td>\n",
       "      <td>2,215.013</td>\n",
       "      <td>2019.0</td>\n",
       "      <td>NaN</td>\n",
       "    </tr>\n",
       "  </tbody>\n",
       "</table>\n",
       "<p>3 rows × 57 columns</p>\n",
       "</div>"
      ],
      "text/plain": [
       "  WEO Country Code  ISO WEO Subject Code      Country  \\\n",
       "0              512  AFG           NGDP_R  Afghanistan   \n",
       "1              512  AFG        NGDP_RPCH  Afghanistan   \n",
       "2              512  AFG             NGDP  Afghanistan   \n",
       "\n",
       "                        Subject Descriptor  \\\n",
       "0  Gross domestic product, constant prices   \n",
       "1  Gross domestic product, constant prices   \n",
       "2   Gross domestic product, current prices   \n",
       "\n",
       "                                       Subject Notes              Units  \\\n",
       "0  Expressed in billions of national currency uni...  National currency   \n",
       "1  Annual percentages of constant price GDP are y...     Percent change   \n",
       "2  Expressed in billions of national currency uni...  National currency   \n",
       "\n",
       "      Scale                      Country/Series-specific Notes 1980  ...  \\\n",
       "0  Billions  Source: National Statistics Office Latest actu...  NaN  ...   \n",
       "1       NaN  See notes for:  Gross domestic product, consta...  NaN  ...   \n",
       "2  Billions  Source: National Statistics Office Latest actu...  NaN  ...   \n",
       "\n",
       "        2018       2019       2020       2021       2022       2023  \\\n",
       "0  1,270.216  1,319.902  1,253.906  1,304.063  1,363.060  1,424.397   \n",
       "1      1.189      3.912     -5.000      4.000      4.524      4.500   \n",
       "2  1,327.690  1,469.596  1,465.922  1,597.738  1,741.832  1,893.023   \n",
       "\n",
       "        2024       2025 Estimates Start After Unnamed: 56  \n",
       "0  1,481.497  1,540.937                2019.0         NaN  \n",
       "1      4.009      4.012                2019.0         NaN  \n",
       "2  2,047.665  2,215.013                2019.0         NaN  \n",
       "\n",
       "[3 rows x 57 columns]"
      ]
     },
     "execution_count": 3,
     "metadata": {},
     "output_type": "execute_result"
    }
   ],
   "source": [
    "df.head(3)\n"
   ]
  },
  {
   "cell_type": "code",
   "execution_count": 4,
   "metadata": {},
   "outputs": [
    {
     "data": {
      "text/plain": [
       "array(['Gross domestic product, constant prices',\n",
       "       'Gross domestic product, current prices',\n",
       "       'Gross domestic product, deflator',\n",
       "       'Gross domestic product per capita, constant prices',\n",
       "       'Gross domestic product per capita, current prices',\n",
       "       'Output gap in percent of potential GDP',\n",
       "       'Gross domestic product based on purchasing-power-parity (PPP) share of world total',\n",
       "       'Implied PPP conversion rate', 'Total investment',\n",
       "       'Gross national savings', 'Inflation, average consumer prices',\n",
       "       'Inflation, end of period consumer prices',\n",
       "       'Six-month London interbank offered rate (LIBOR)',\n",
       "       'Volume of imports of goods and services',\n",
       "       'Volume of Imports of goods',\n",
       "       'Volume of exports of goods and services',\n",
       "       'Volume of exports of goods', 'Unemployment rate', 'Employment',\n",
       "       'Population', 'General government revenue',\n",
       "       'General government total expenditure',\n",
       "       'General government net lending/borrowing',\n",
       "       'General government structural balance',\n",
       "       'General government primary net lending/borrowing',\n",
       "       'General government net debt', 'General government gross debt',\n",
       "       'Gross domestic product corresponding to fiscal year, current prices',\n",
       "       'Current account balance', nan], dtype=object)"
      ]
     },
     "execution_count": 4,
     "metadata": {},
     "output_type": "execute_result"
    }
   ],
   "source": [
    "df['Subject Descriptor'].unique()"
   ]
  },
  {
   "cell_type": "code",
   "execution_count": 5,
   "metadata": {},
   "outputs": [
    {
     "name": "stderr",
     "output_type": "stream",
     "text": [
      "<ipython-input-5-a78f75b9c045>:3: UserWarning: Boolean Series key will be reindexed to match DataFrame index.\n",
      "  USD_df = per_capita_df[is_USD]\n"
     ]
    },
    {
     "data": {
      "text/plain": [
       "(195, 57)"
      ]
     },
     "execution_count": 5,
     "metadata": {},
     "output_type": "execute_result"
    }
   ],
   "source": [
    "per_capita_df = df[df['Subject Descriptor']==\"Gross domestic product per capita, constant prices\"]\n",
    "is_USD = df['Units'] == 'Purchasing power parity; 2017 international dollar'\n",
    "USD_df = per_capita_df[is_USD]\n",
    "USD_df.shape"
   ]
  },
  {
   "cell_type": "code",
   "execution_count": 6,
   "metadata": {},
   "outputs": [
    {
     "data": {
      "text/plain": [
       "(195, 57)"
      ]
     },
     "execution_count": 6,
     "metadata": {},
     "output_type": "execute_result"
    }
   ],
   "source": [
    "export_df = df[df['Subject Descriptor']==\"Volume of exports of goods\"]\n",
    "export_df.shape"
   ]
  },
  {
   "cell_type": "code",
   "execution_count": 7,
   "metadata": {},
   "outputs": [],
   "source": [
    "USD_df = USD_df[['Country','2019']]"
   ]
  },
  {
   "cell_type": "code",
   "execution_count": 8,
   "metadata": {},
   "outputs": [
    {
     "data": {
      "text/html": [
       "<div>\n",
       "<style scoped>\n",
       "    .dataframe tbody tr th:only-of-type {\n",
       "        vertical-align: middle;\n",
       "    }\n",
       "\n",
       "    .dataframe tbody tr th {\n",
       "        vertical-align: top;\n",
       "    }\n",
       "\n",
       "    .dataframe thead th {\n",
       "        text-align: right;\n",
       "    }\n",
       "</style>\n",
       "<table border=\"1\" class=\"dataframe\">\n",
       "  <thead>\n",
       "    <tr style=\"text-align: right;\">\n",
       "      <th></th>\n",
       "      <th>Country</th>\n",
       "      <th>2019</th>\n",
       "    </tr>\n",
       "  </thead>\n",
       "  <tbody>\n",
       "    <tr>\n",
       "      <th>7</th>\n",
       "      <td>Afghanistan</td>\n",
       "      <td>2,111.253</td>\n",
       "    </tr>\n",
       "    <tr>\n",
       "      <th>52</th>\n",
       "      <td>Albania</td>\n",
       "      <td>13,944.393</td>\n",
       "    </tr>\n",
       "    <tr>\n",
       "      <th>97</th>\n",
       "      <td>Algeria</td>\n",
       "      <td>11,252.807</td>\n",
       "    </tr>\n",
       "    <tr>\n",
       "      <th>142</th>\n",
       "      <td>Angola</td>\n",
       "      <td>7,084.321</td>\n",
       "    </tr>\n",
       "    <tr>\n",
       "      <th>187</th>\n",
       "      <td>Antigua and Barbuda</td>\n",
       "      <td>21,652.158</td>\n",
       "    </tr>\n",
       "  </tbody>\n",
       "</table>\n",
       "</div>"
      ],
      "text/plain": [
       "                 Country        2019\n",
       "7            Afghanistan   2,111.253\n",
       "52               Albania  13,944.393\n",
       "97               Algeria  11,252.807\n",
       "142               Angola   7,084.321\n",
       "187  Antigua and Barbuda  21,652.158"
      ]
     },
     "execution_count": 8,
     "metadata": {},
     "output_type": "execute_result"
    }
   ],
   "source": [
    "USD_df.head()"
   ]
  },
  {
   "cell_type": "code",
   "execution_count": 9,
   "metadata": {},
   "outputs": [
    {
     "data": {
      "text/html": [
       "<div>\n",
       "<style scoped>\n",
       "    .dataframe tbody tr th:only-of-type {\n",
       "        vertical-align: middle;\n",
       "    }\n",
       "\n",
       "    .dataframe tbody tr th {\n",
       "        vertical-align: top;\n",
       "    }\n",
       "\n",
       "    .dataframe thead th {\n",
       "        text-align: right;\n",
       "    }\n",
       "</style>\n",
       "<table border=\"1\" class=\"dataframe\">\n",
       "  <thead>\n",
       "    <tr style=\"text-align: right;\">\n",
       "      <th></th>\n",
       "      <th>Country</th>\n",
       "      <th>2019</th>\n",
       "    </tr>\n",
       "  </thead>\n",
       "  <tbody>\n",
       "    <tr>\n",
       "      <th>24</th>\n",
       "      <td>Afghanistan</td>\n",
       "      <td>0.068</td>\n",
       "    </tr>\n",
       "    <tr>\n",
       "      <th>69</th>\n",
       "      <td>Albania</td>\n",
       "      <td>-8.454</td>\n",
       "    </tr>\n",
       "    <tr>\n",
       "      <th>114</th>\n",
       "      <td>Algeria</td>\n",
       "      <td>-5.125</td>\n",
       "    </tr>\n",
       "    <tr>\n",
       "      <th>159</th>\n",
       "      <td>Angola</td>\n",
       "      <td>0.496</td>\n",
       "    </tr>\n",
       "    <tr>\n",
       "      <th>204</th>\n",
       "      <td>Antigua and Barbuda</td>\n",
       "      <td>8.555</td>\n",
       "    </tr>\n",
       "  </tbody>\n",
       "</table>\n",
       "</div>"
      ],
      "text/plain": [
       "                 Country    2019\n",
       "24           Afghanistan   0.068\n",
       "69               Albania  -8.454\n",
       "114              Algeria  -5.125\n",
       "159               Angola   0.496\n",
       "204  Antigua and Barbuda   8.555"
      ]
     },
     "execution_count": 9,
     "metadata": {},
     "output_type": "execute_result"
    }
   ],
   "source": [
    "export_df = export_df[['Country','2019']]\n",
    "export_df.head()"
   ]
  },
  {
   "cell_type": "code",
   "execution_count": 10,
   "metadata": {},
   "outputs": [],
   "source": [
    "main_df = pd.merge(USD_df, export_df, on='Country', how='outer')"
   ]
  },
  {
   "cell_type": "code",
   "execution_count": 11,
   "metadata": {},
   "outputs": [
    {
     "data": {
      "text/plain": [
       "(195, 3)"
      ]
     },
     "execution_count": 11,
     "metadata": {},
     "output_type": "execute_result"
    }
   ],
   "source": [
    "main_df.shape"
   ]
  },
  {
   "cell_type": "code",
   "execution_count": 12,
   "metadata": {},
   "outputs": [
    {
     "data": {
      "text/html": [
       "<div>\n",
       "<style scoped>\n",
       "    .dataframe tbody tr th:only-of-type {\n",
       "        vertical-align: middle;\n",
       "    }\n",
       "\n",
       "    .dataframe tbody tr th {\n",
       "        vertical-align: top;\n",
       "    }\n",
       "\n",
       "    .dataframe thead th {\n",
       "        text-align: right;\n",
       "    }\n",
       "</style>\n",
       "<table border=\"1\" class=\"dataframe\">\n",
       "  <thead>\n",
       "    <tr style=\"text-align: right;\">\n",
       "      <th></th>\n",
       "      <th>2019_x</th>\n",
       "      <th>2019_y</th>\n",
       "    </tr>\n",
       "  </thead>\n",
       "  <tbody>\n",
       "    <tr>\n",
       "      <th>0</th>\n",
       "      <td>2,111.253</td>\n",
       "      <td>0.068</td>\n",
       "    </tr>\n",
       "    <tr>\n",
       "      <th>1</th>\n",
       "      <td>13,944.393</td>\n",
       "      <td>-8.454</td>\n",
       "    </tr>\n",
       "    <tr>\n",
       "      <th>2</th>\n",
       "      <td>11,252.807</td>\n",
       "      <td>-5.125</td>\n",
       "    </tr>\n",
       "    <tr>\n",
       "      <th>3</th>\n",
       "      <td>7,084.321</td>\n",
       "      <td>0.496</td>\n",
       "    </tr>\n",
       "    <tr>\n",
       "      <th>4</th>\n",
       "      <td>21,652.158</td>\n",
       "      <td>8.555</td>\n",
       "    </tr>\n",
       "  </tbody>\n",
       "</table>\n",
       "</div>"
      ],
      "text/plain": [
       "       2019_x  2019_y\n",
       "0   2,111.253   0.068\n",
       "1  13,944.393  -8.454\n",
       "2  11,252.807  -5.125\n",
       "3   7,084.321   0.496\n",
       "4  21,652.158   8.555"
      ]
     },
     "execution_count": 12,
     "metadata": {},
     "output_type": "execute_result"
    }
   ],
   "source": [
    "main_df.iloc[:,1:].head()"
   ]
  },
  {
   "cell_type": "code",
   "execution_count": 13,
   "metadata": {},
   "outputs": [],
   "source": [
    "main_df.rename(columns={'2019_x': 'GDP', '2019_y': 'Exp'}, inplace=True)"
   ]
  },
  {
   "cell_type": "code",
   "execution_count": 14,
   "metadata": {},
   "outputs": [],
   "source": [
    "main_df['GDP'] = main_df['GDP'].str.replace(',', '')\n",
    "main_df['GDP'] = pd.to_numeric(main_df['GDP'], errors='coerce')\n",
    "main_df['Exp'] = pd.to_numeric(main_df['Exp'], errors='coerce')"
   ]
  },
  {
   "cell_type": "code",
   "execution_count": 15,
   "metadata": {},
   "outputs": [
    {
     "data": {
      "text/plain": [
       "2"
      ]
     },
     "execution_count": 15,
     "metadata": {},
     "output_type": "execute_result"
    }
   ],
   "source": [
    "main_df['GDP'].isnull().sum()"
   ]
  },
  {
   "cell_type": "code",
   "execution_count": 16,
   "metadata": {},
   "outputs": [],
   "source": [
    "main_df = main_df.dropna(subset=['Exp'])"
   ]
  },
  {
   "cell_type": "code",
   "execution_count": 17,
   "metadata": {},
   "outputs": [
    {
     "data": {
      "text/plain": [
       "Country     object\n",
       "GDP        float64\n",
       "Exp        float64\n",
       "dtype: object"
      ]
     },
     "execution_count": 17,
     "metadata": {},
     "output_type": "execute_result"
    }
   ],
   "source": [
    "main_df.dtypes"
   ]
  },
  {
   "cell_type": "code",
   "execution_count": 18,
   "metadata": {},
   "outputs": [
    {
     "data": {
      "text/plain": [
       "<matplotlib.collections.PathCollection at 0x11a70f670>"
      ]
     },
     "execution_count": 18,
     "metadata": {},
     "output_type": "execute_result"
    },
    {
     "data": {
      "image/png": "[encoded data removed]",
      "text/plain": [
       "<Figure size 1152x648 with 1 Axes>"
      ]
     },
     "metadata": {
      "needs_background": "light"
     },
     "output_type": "display_data"
    }
   ],
   "source": [
    "plt.figure(figsize=(16,9))\n",
    "plt.scatter(main_df['GDP'], main_df['Exp'])"
   ]
  },
  {
   "cell_type": "code",
   "execution_count": 19,
   "metadata": {},
   "outputs": [],
   "source": [
    "kmeans = KMeans(n_clusters=5)"
   ]
  },
  {
   "cell_type": "code",
   "execution_count": 20,
   "metadata": {},
   "outputs": [],
   "source": [
    "points = main_df.iloc[:,1:].values"
   ]
  },
  {
   "cell_type": "code",
   "execution_count": 21,
   "metadata": {},
   "outputs": [
    {
     "data": {
      "text/plain": [
       "KMeans(n_clusters=5)"
      ]
     },
     "execution_count": 21,
     "metadata": {},
     "output_type": "execute_result"
    }
   ],
   "source": [
    "kmeans.fit(points)"
   ]
  },
  {
   "cell_type": "code",
   "execution_count": 22,
   "metadata": {},
   "outputs": [],
   "source": [
    "cluster_centers = kmeans.cluster_centers_"
   ]
  },
  {
   "cell_type": "code",
   "execution_count": 23,
   "metadata": {},
   "outputs": [
    {
     "name": "stdout",
     "output_type": "stream",
     "text": [
      "[[1.52691903e+04 6.43000000e-01]\n",
      " [5.39625369e+04 1.60804348e+00]\n",
      " [9.81048460e+04 1.17900000e+00]\n",
      " [4.08257436e+03 3.34680303e+00]\n",
      " [3.37469720e+04 4.84758621e-01]]\n"
     ]
    }
   ],
   "source": [
    "print(cluster_centers)"
   ]
  },
  {
   "cell_type": "code",
   "execution_count": 24,
   "metadata": {},
   "outputs": [],
   "source": [
    "labels = kmeans.fit_predict(points)"
   ]
  },
  {
   "cell_type": "code",
   "execution_count": 25,
   "metadata": {},
   "outputs": [
    {
     "name": "stdout",
     "output_type": "stream",
     "text": [
      "[4 1 1 4 1 1 1 2 2 1 0 2 4 1 1 2 4 4 1 4 1 1 1 2 1 4 4 4 4 4 2 4 4 1 1 1 4\n",
      " 4 4 1 4 0 0 0 2 4 1 1 1 1 4 1 4 0 4 4 2 2 1 4 1 2 4 0 1 4 4 4 1 4 4 2 0 2\n",
      " 4 1 1 3 0 0 1 0 1 0 4 4 0 1 2 4 4 0 1 4 4 1 3 4 4 0 0 4 2 4 1 1 1 1 1 4 4\n",
      " 4 1 2 0 4 4 4 1 2 0 4 1 0 4 1 1 4 0 0 3 0 0 4 4 2 4 1 0 4 3 0 0 4 1 0 1 0\n",
      " 1 1 4 1 2 2 2 4 4 1 4 4 0 1 0 1 4 1 2 2 2 1 4 4 1 4 4 4 4]\n"
     ]
    }
   ],
   "source": [
    "print(labels)"
   ]
  },
  {
   "cell_type": "code",
   "execution_count": 26,
   "metadata": {},
   "outputs": [
    {
     "data": {
      "text/html": [
       "<div>\n",
       "<style scoped>\n",
       "    .dataframe tbody tr th:only-of-type {\n",
       "        vertical-align: middle;\n",
       "    }\n",
       "\n",
       "    .dataframe tbody tr th {\n",
       "        vertical-align: top;\n",
       "    }\n",
       "\n",
       "    .dataframe thead th {\n",
       "        text-align: right;\n",
       "    }\n",
       "</style>\n",
       "<table border=\"1\" class=\"dataframe\">\n",
       "  <thead>\n",
       "    <tr style=\"text-align: right;\">\n",
       "      <th></th>\n",
       "      <th>Country</th>\n",
       "      <th>GDP</th>\n",
       "      <th>Exp</th>\n",
       "      <th>clusters</th>\n",
       "    </tr>\n",
       "  </thead>\n",
       "  <tbody>\n",
       "    <tr>\n",
       "      <th>0</th>\n",
       "      <td>Afghanistan</td>\n",
       "      <td>2111.253</td>\n",
       "      <td>0.068</td>\n",
       "      <td>4</td>\n",
       "    </tr>\n",
       "    <tr>\n",
       "      <th>1</th>\n",
       "      <td>Albania</td>\n",
       "      <td>13944.393</td>\n",
       "      <td>-8.454</td>\n",
       "      <td>1</td>\n",
       "    </tr>\n",
       "    <tr>\n",
       "      <th>2</th>\n",
       "      <td>Algeria</td>\n",
       "      <td>11252.807</td>\n",
       "      <td>-5.125</td>\n",
       "      <td>1</td>\n",
       "    </tr>\n",
       "    <tr>\n",
       "      <th>3</th>\n",
       "      <td>Angola</td>\n",
       "      <td>7084.321</td>\n",
       "      <td>0.496</td>\n",
       "      <td>4</td>\n",
       "    </tr>\n",
       "    <tr>\n",
       "      <th>4</th>\n",
       "      <td>Antigua and Barbuda</td>\n",
       "      <td>21652.158</td>\n",
       "      <td>8.555</td>\n",
       "      <td>1</td>\n",
       "    </tr>\n",
       "    <tr>\n",
       "      <th>...</th>\n",
       "      <td>...</td>\n",
       "      <td>...</td>\n",
       "      <td>...</td>\n",
       "      <td>...</td>\n",
       "    </tr>\n",
       "    <tr>\n",
       "      <th>190</th>\n",
       "      <td>Vietnam</td>\n",
       "      <td>10110.001</td>\n",
       "      <td>5.272</td>\n",
       "      <td>1</td>\n",
       "    </tr>\n",
       "    <tr>\n",
       "      <th>191</th>\n",
       "      <td>West Bank and Gaza</td>\n",
       "      <td>5851.869</td>\n",
       "      <td>-0.762</td>\n",
       "      <td>4</td>\n",
       "    </tr>\n",
       "    <tr>\n",
       "      <th>192</th>\n",
       "      <td>Yemen</td>\n",
       "      <td>1973.141</td>\n",
       "      <td>30.832</td>\n",
       "      <td>4</td>\n",
       "    </tr>\n",
       "    <tr>\n",
       "      <th>193</th>\n",
       "      <td>Zambia</td>\n",
       "      <td>3383.327</td>\n",
       "      <td>-12.488</td>\n",
       "      <td>4</td>\n",
       "    </tr>\n",
       "    <tr>\n",
       "      <th>194</th>\n",
       "      <td>Zimbabwe</td>\n",
       "      <td>2778.618</td>\n",
       "      <td>5.966</td>\n",
       "      <td>4</td>\n",
       "    </tr>\n",
       "  </tbody>\n",
       "</table>\n",
       "<p>177 rows × 4 columns</p>\n",
       "</div>"
      ],
      "text/plain": [
       "                 Country        GDP     Exp  clusters\n",
       "0            Afghanistan   2111.253   0.068         4\n",
       "1                Albania  13944.393  -8.454         1\n",
       "2                Algeria  11252.807  -5.125         1\n",
       "3                 Angola   7084.321   0.496         4\n",
       "4    Antigua and Barbuda  21652.158   8.555         1\n",
       "..                   ...        ...     ...       ...\n",
       "190              Vietnam  10110.001   5.272         1\n",
       "191   West Bank and Gaza   5851.869  -0.762         4\n",
       "192                Yemen   1973.141  30.832         4\n",
       "193               Zambia   3383.327 -12.488         4\n",
       "194             Zimbabwe   2778.618   5.966         4\n",
       "\n",
       "[177 rows x 4 columns]"
      ]
     },
     "execution_count": 26,
     "metadata": {},
     "output_type": "execute_result"
    }
   ],
   "source": [
    "main_df['clusters'] = pd.Series(labels,index=main_df.index)\n",
    "main_df"
   ]
  },
  {
   "cell_type": "code",
   "execution_count": 28,
   "metadata": {},
   "outputs": [
    {
     "data": {
      "image/png": "[encoded data removed]",
      "text/plain": [
       "<Figure size 1152x648 with 1 Axes>"
      ]
     },
     "metadata": {
      "needs_background": "light"
     },
     "output_type": "display_data"
    }
   ],
   "source": [
    "colors = cycle('bgrcmykbgrcmykbgrcmykbgrcmyk')\n",
    "plt.figure(figsize=(16, 9))\n",
    "for k, col in zip(range(5), colors):\n",
    "    my_members = labels == k\n",
    "    cluster_center = cluster_centers[k]\n",
    "    plt.plot(points[my_members, 0], points[my_members, 1], col + '.')\n",
    "#     for i, txt in enumerate(main_df['Country']):\n",
    "#         print(points[my_members, 0][i],  i)\n",
    "#         plt.annotate(txt, (points[my_members, 0][i], points[my_members, 1][i]))\n",
    "plt.title('5 clusters')\n",
    "plt.show()"
   ]
  },
  {
   "cell_type": "code",
   "execution_count": 92,
   "metadata": {},
   "outputs": [],
   "source": [
    "sorted_gdp_df = main_df.sort_values('GDP', ascending=False)"
   ]
  },
  {
   "cell_type": "markdown",
   "metadata": {},
   "source": [
    "## Labels of top5 countries in every cluster by GDP"
   ]
  },
  {
   "cell_type": "code",
   "execution_count": 100,
   "metadata": {},
   "outputs": [
    {
     "data": {
      "image/png": "[encoded data removed]",
      "text/plain": [
       "<Figure size 1152x648 with 1 Axes>"
      ]
     },
     "metadata": {
      "needs_background": "light"
     },
     "output_type": "display_data"
    }
   ],
   "source": [
    "plt.figure(figsize=(16, 9))\n",
    "for k in range(5):\n",
    "    my_members = labels == k\n",
    "    plt.scatter(points[my_members, 0], points[my_members, 1])\n",
    "    for i, txt in enumerate(list(sorted_gdp_df['Country'][my_members])[:5]):\n",
    "        plt.annotate(txt, (points[my_members, 0][i], points[my_members, 1][i]))\n",
    "plt.title('5 clusters')\n",
    "plt.show()"
   ]
  },
  {
   "cell_type": "code",
   "execution_count": null,
   "metadata": {},
   "outputs": [],
   "source": []
  }
 ],
 "metadata": {
  "kernelspec": {
   "display_name": "Python 3",
   "language": "python",
   "name": "python3"
  },
  "language_info": {
   "codemirror_mode": {
    "name": "ipython",
    "version": 3
   },
   "file_extension": ".py",
   "mimetype": "text/x-python",
   "name": "python",
   "nbconvert_exporter": "python",
   "pygments_lexer": "ipython3",
   "version": "3.8.3"
  }
 },
 "nbformat": 4,
 "nbformat_minor": 4
}
