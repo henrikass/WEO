{
 "cells": [
  {
   "cell_type": "code",
   "execution_count": 1,
   "metadata": {},
   "outputs": [],
   "source": [
    "import pandas as pd\n",
    "import numpy as np\n",
    "import matplotlib.pyplot as plt\n",
    "import seaborn as sns"
   ]
  },
  {
   "cell_type": "code",
   "execution_count": 2,
   "metadata": {},
   "outputs": [],
   "source": [
    "df = pd.read_table('WEOOct2020all.tsv')"
   ]
  },
  {
   "cell_type": "code",
   "execution_count": 3,
   "metadata": {},
   "outputs": [
    {
     "data": {
      "text/html": [
       "<div>\n",
       "<style scoped>\n",
       "    .dataframe tbody tr th:only-of-type {\n",
       "        vertical-align: middle;\n",
       "    }\n",
       "\n",
       "    .dataframe tbody tr th {\n",
       "        vertical-align: top;\n",
       "    }\n",
       "\n",
       "    .dataframe thead th {\n",
       "        text-align: right;\n",
       "    }\n",
       "</style>\n",
       "<table border=\"1\" class=\"dataframe\">\n",
       "  <thead>\n",
       "    <tr style=\"text-align: right;\">\n",
       "      <th></th>\n",
       "      <th>WEO Country Code</th>\n",
       "      <th>ISO</th>\n",
       "      <th>WEO Subject Code</th>\n",
       "      <th>Country</th>\n",
       "      <th>Subject Descriptor</th>\n",
       "      <th>Subject Notes</th>\n",
       "      <th>Units</th>\n",
       "      <th>Scale</th>\n",
       "      <th>Country/Series-specific Notes</th>\n",
       "      <th>1980</th>\n",
       "      <th>...</th>\n",
       "      <th>2018</th>\n",
       "      <th>2019</th>\n",
       "      <th>2020</th>\n",
       "      <th>2021</th>\n",
       "      <th>2022</th>\n",
       "      <th>2023</th>\n",
       "      <th>2024</th>\n",
       "      <th>2025</th>\n",
       "      <th>Estimates Start After</th>\n",
       "      <th>Unnamed: 56</th>\n",
       "    </tr>\n",
       "  </thead>\n",
       "  <tbody>\n",
       "    <tr>\n",
       "      <th>0</th>\n",
       "      <td>512</td>\n",
       "      <td>AFG</td>\n",
       "      <td>NGDP_R</td>\n",
       "      <td>Afghanistan</td>\n",
       "      <td>Gross domestic product, constant prices</td>\n",
       "      <td>Expressed in billions of national currency uni...</td>\n",
       "      <td>National currency</td>\n",
       "      <td>Billions</td>\n",
       "      <td>Source: National Statistics Office Latest actu...</td>\n",
       "      <td>NaN</td>\n",
       "      <td>...</td>\n",
       "      <td>1,270.216</td>\n",
       "      <td>1,319.902</td>\n",
       "      <td>1,253.906</td>\n",
       "      <td>1,304.063</td>\n",
       "      <td>1,363.060</td>\n",
       "      <td>1,424.397</td>\n",
       "      <td>1,481.497</td>\n",
       "      <td>1,540.937</td>\n",
       "      <td>2019.0</td>\n",
       "      <td>NaN</td>\n",
       "    </tr>\n",
       "    <tr>\n",
       "      <th>1</th>\n",
       "      <td>512</td>\n",
       "      <td>AFG</td>\n",
       "      <td>NGDP_RPCH</td>\n",
       "      <td>Afghanistan</td>\n",
       "      <td>Gross domestic product, constant prices</td>\n",
       "      <td>Annual percentages of constant price GDP are y...</td>\n",
       "      <td>Percent change</td>\n",
       "      <td>NaN</td>\n",
       "      <td>See notes for:  Gross domestic product, consta...</td>\n",
       "      <td>NaN</td>\n",
       "      <td>...</td>\n",
       "      <td>1.189</td>\n",
       "      <td>3.912</td>\n",
       "      <td>-5.000</td>\n",
       "      <td>4.000</td>\n",
       "      <td>4.524</td>\n",
       "      <td>4.500</td>\n",
       "      <td>4.009</td>\n",
       "      <td>4.012</td>\n",
       "      <td>2019.0</td>\n",
       "      <td>NaN</td>\n",
       "    </tr>\n",
       "    <tr>\n",
       "      <th>2</th>\n",
       "      <td>512</td>\n",
       "      <td>AFG</td>\n",
       "      <td>NGDP</td>\n",
       "      <td>Afghanistan</td>\n",
       "      <td>Gross domestic product, current prices</td>\n",
       "      <td>Expressed in billions of national currency uni...</td>\n",
       "      <td>National currency</td>\n",
       "      <td>Billions</td>\n",
       "      <td>Source: National Statistics Office Latest actu...</td>\n",
       "      <td>NaN</td>\n",
       "      <td>...</td>\n",
       "      <td>1,327.690</td>\n",
       "      <td>1,469.596</td>\n",
       "      <td>1,465.922</td>\n",
       "      <td>1,597.738</td>\n",
       "      <td>1,741.832</td>\n",
       "      <td>1,893.023</td>\n",
       "      <td>2,047.665</td>\n",
       "      <td>2,215.013</td>\n",
       "      <td>2019.0</td>\n",
       "      <td>NaN</td>\n",
       "    </tr>\n",
       "  </tbody>\n",
       "</table>\n",
       "<p>3 rows × 57 columns</p>\n",
       "</div>"
      ],
      "text/plain": [
       "  WEO Country Code  ISO WEO Subject Code      Country  \\\n",
       "0              512  AFG           NGDP_R  Afghanistan   \n",
       "1              512  AFG        NGDP_RPCH  Afghanistan   \n",
       "2              512  AFG             NGDP  Afghanistan   \n",
       "\n",
       "                        Subject Descriptor  \\\n",
       "0  Gross domestic product, constant prices   \n",
       "1  Gross domestic product, constant prices   \n",
       "2   Gross domestic product, current prices   \n",
       "\n",
       "                                       Subject Notes              Units  \\\n",
       "0  Expressed in billions of national currency uni...  National currency   \n",
       "1  Annual percentages of constant price GDP are y...     Percent change   \n",
       "2  Expressed in billions of national currency uni...  National currency   \n",
       "\n",
       "      Scale                      Country/Series-specific Notes 1980  ...  \\\n",
       "0  Billions  Source: National Statistics Office Latest actu...  NaN  ...   \n",
       "1       NaN  See notes for:  Gross domestic product, consta...  NaN  ...   \n",
       "2  Billions  Source: National Statistics Office Latest actu...  NaN  ...   \n",
       "\n",
       "        2018       2019       2020       2021       2022       2023  \\\n",
       "0  1,270.216  1,319.902  1,253.906  1,304.063  1,363.060  1,424.397   \n",
       "1      1.189      3.912     -5.000      4.000      4.524      4.500   \n",
       "2  1,327.690  1,469.596  1,465.922  1,597.738  1,741.832  1,893.023   \n",
       "\n",
       "        2024       2025 Estimates Start After Unnamed: 56  \n",
       "0  1,481.497  1,540.937                2019.0         NaN  \n",
       "1      4.009      4.012                2019.0         NaN  \n",
       "2  2,047.665  2,215.013                2019.0         NaN  \n",
       "\n",
       "[3 rows x 57 columns]"
      ]
     },
     "execution_count": 3,
     "metadata": {},
     "output_type": "execute_result"
    }
   ],
   "source": [
    "df.head(3)\n"
   ]
  },
  {
   "cell_type": "code",
   "execution_count": 4,
   "metadata": {},
   "outputs": [
    {
     "data": {
      "text/plain": [
       "array(['Gross domestic product, constant prices',\n",
       "       'Gross domestic product, current prices',\n",
       "       'Gross domestic product, deflator',\n",
       "       'Gross domestic product per capita, constant prices',\n",
       "       'Gross domestic product per capita, current prices',\n",
       "       'Output gap in percent of potential GDP',\n",
       "       'Gross domestic product based on purchasing-power-parity (PPP) share of world total',\n",
       "       'Implied PPP conversion rate', 'Total investment',\n",
       "       'Gross national savings', 'Inflation, average consumer prices',\n",
       "       'Inflation, end of period consumer prices',\n",
       "       'Six-month London interbank offered rate (LIBOR)',\n",
       "       'Volume of imports of goods and services',\n",
       "       'Volume of Imports of goods',\n",
       "       'Volume of exports of goods and services',\n",
       "       'Volume of exports of goods', 'Unemployment rate', 'Employment',\n",
       "       'Population', 'General government revenue',\n",
       "       'General government total expenditure',\n",
       "       'General government net lending/borrowing',\n",
       "       'General government structural balance',\n",
       "       'General government primary net lending/borrowing',\n",
       "       'General government net debt', 'General government gross debt',\n",
       "       'Gross domestic product corresponding to fiscal year, current prices',\n",
       "       'Current account balance', nan], dtype=object)"
      ]
     },
     "execution_count": 4,
     "metadata": {},
     "output_type": "execute_result"
    }
   ],
   "source": [
    "df['Subject Descriptor'].unique()"
   ]
  },
  {
   "cell_type": "code",
   "execution_count": 5,
   "metadata": {},
   "outputs": [],
   "source": [
    "population_df = df[df['Subject Descriptor']==\"Population\"]"
   ]
  },
  {
   "cell_type": "code",
   "execution_count": 6,
   "metadata": {},
   "outputs": [
    {
     "data": {
      "text/plain": [
       "(195, 57)"
      ]
     },
     "execution_count": 6,
     "metadata": {},
     "output_type": "execute_result"
    }
   ],
   "source": [
    "population_df.shape"
   ]
  },
  {
   "cell_type": "code",
   "execution_count": 8,
   "metadata": {},
   "outputs": [
    {
     "data": {
      "text/plain": [
       "array(['Afghanistan', 'Albania', 'Algeria', 'Angola',\n",
       "       'Antigua and Barbuda', 'Argentina', 'Armenia', 'Aruba',\n",
       "       'Australia', 'Austria', 'Azerbaijan', 'The Bahamas', 'Bahrain',\n",
       "       'Bangladesh', 'Barbados', 'Belarus', 'Belgium', 'Belize', 'Benin',\n",
       "       'Bhutan', 'Bolivia', 'Bosnia and Herzegovina', 'Botswana',\n",
       "       'Brazil', 'Brunei Darussalam', 'Bulgaria', 'Burkina Faso',\n",
       "       'Burundi', 'Cabo Verde', 'Cambodia', 'Cameroon', 'Canada',\n",
       "       'Central African Republic', 'Chad', 'Chile', 'China', 'Colombia',\n",
       "       'Comoros', 'Democratic Republic of the Congo', 'Republic of Congo',\n",
       "       'Costa Rica', \"Côte d'Ivoire\", 'Croatia', 'Cyprus',\n",
       "       'Czech Republic', 'Denmark', 'Djibouti', 'Dominica',\n",
       "       'Dominican Republic', 'Ecuador', 'Egypt', 'El Salvador',\n",
       "       'Equatorial Guinea', 'Eritrea', 'Estonia', 'Eswatini', 'Ethiopia',\n",
       "       'Fiji', 'Finland', 'France', 'Gabon', 'The Gambia', 'Georgia',\n",
       "       'Germany', 'Ghana', 'Greece', 'Grenada', 'Guatemala', 'Guinea',\n",
       "       'Guinea-Bissau', 'Guyana', 'Haiti', 'Honduras', 'Hong Kong SAR',\n",
       "       'Hungary', 'Iceland', 'India', 'Indonesia',\n",
       "       'Islamic Republic of Iran', 'Iraq', 'Ireland', 'Israel', 'Italy',\n",
       "       'Jamaica', 'Japan', 'Jordan', 'Kazakhstan', 'Kenya', 'Kiribati',\n",
       "       'Korea', 'Kosovo', 'Kuwait', 'Kyrgyz Republic', 'Lao P.D.R.',\n",
       "       'Latvia', 'Lebanon', 'Lesotho', 'Liberia', 'Libya', 'Lithuania',\n",
       "       'Luxembourg', 'Macao SAR', 'Madagascar', 'Malawi', 'Malaysia',\n",
       "       'Maldives', 'Mali', 'Malta', 'Marshall Islands', 'Mauritania',\n",
       "       'Mauritius', 'Mexico', 'Micronesia', 'Moldova', 'Mongolia',\n",
       "       'Montenegro', 'Morocco', 'Mozambique', 'Myanmar', 'Namibia',\n",
       "       'Nauru', 'Nepal', 'Netherlands', 'New Zealand', 'Nicaragua',\n",
       "       'Niger', 'Nigeria', 'North Macedonia', 'Norway', 'Oman',\n",
       "       'Pakistan', 'Palau', 'Panama', 'Papua New Guinea', 'Paraguay',\n",
       "       'Peru', 'Philippines', 'Poland', 'Portugal', 'Puerto Rico',\n",
       "       'Qatar', 'Romania', 'Russia', 'Rwanda', 'Samoa', 'San Marino',\n",
       "       'São Tomé and Príncipe', 'Saudi Arabia', 'Senegal', 'Serbia',\n",
       "       'Seychelles', 'Sierra Leone', 'Singapore', 'Slovak Republic',\n",
       "       'Slovenia', 'Solomon Islands', 'Somalia', 'South Africa',\n",
       "       'South Sudan', 'Spain', 'Sri Lanka', 'St. Kitts and Nevis',\n",
       "       'St. Lucia', 'St. Vincent and the Grenadines', 'Sudan', 'Suriname',\n",
       "       'Sweden', 'Switzerland', 'Syria', 'Taiwan Province of China',\n",
       "       'Tajikistan', 'Tanzania', 'Thailand', 'Timor-Leste', 'Togo',\n",
       "       'Tonga', 'Trinidad and Tobago', 'Tunisia', 'Turkey',\n",
       "       'Turkmenistan', 'Tuvalu', 'Uganda', 'Ukraine',\n",
       "       'United Arab Emirates', 'United Kingdom', 'United States',\n",
       "       'Uruguay', 'Uzbekistan', 'Vanuatu', 'Venezuela', 'Vietnam',\n",
       "       'West Bank and Gaza', 'Yemen', 'Zambia', 'Zimbabwe'], dtype=object)"
      ]
     },
     "execution_count": 8,
     "metadata": {},
     "output_type": "execute_result"
    }
   ],
   "source": [
    "population_df.Country.unique()"
   ]
  },
  {
   "cell_type": "code",
   "execution_count": 31,
   "metadata": {},
   "outputs": [],
   "source": [
    "OECD_countries = ['Australia', 'Austria', 'Belgium', 'Canada', 'Chile', \n",
    "                  'Colombia', 'Czech Republic', 'Denmark', 'Estonia', \n",
    "                  'Finland', 'France', 'Germany', 'Greece', 'Hungary',\n",
    "                 'Iceland', 'Ireland', 'Israel', 'Italy', 'Japan', 'Korea',  \n",
    "                  'Latvia', 'Lithuania','Luxembourg', 'Mexico', 'Netherlands', 'New Zealand',\n",
    "                 'Norway', 'Poland', 'Portugal', 'Slovak Republic',\n",
    "                 'Slovenia', 'Spain', 'Sweden', 'Switzerland','Turkey',\n",
    "                 'United Kingdom', 'United States']"
   ]
  },
  {
   "cell_type": "code",
   "execution_count": 32,
   "metadata": {},
   "outputs": [
    {
     "data": {
      "text/plain": [
       "37"
      ]
     },
     "execution_count": 32,
     "metadata": {},
     "output_type": "execute_result"
    }
   ],
   "source": [
    "len(OECD_countries)"
   ]
  },
  {
   "cell_type": "code",
   "execution_count": 33,
   "metadata": {},
   "outputs": [],
   "source": [
    "OECD_countries_mask = population_df['Country'].isin(OECD_countries)"
   ]
  },
  {
   "cell_type": "code",
   "execution_count": 34,
   "metadata": {},
   "outputs": [],
   "source": [
    "OECD_countries_df = population_df[OECD_countries_mask]"
   ]
  },
  {
   "cell_type": "code",
   "execution_count": 35,
   "metadata": {},
   "outputs": [
    {
     "data": {
      "text/plain": [
       "(37, 57)"
      ]
     },
     "execution_count": 35,
     "metadata": {},
     "output_type": "execute_result"
    }
   ],
   "source": [
    "OECD_countries_df.shape"
   ]
  },
  {
   "cell_type": "code",
   "execution_count": 36,
   "metadata": {},
   "outputs": [
    {
     "data": {
      "text/plain": [
       "array(['Australia', 'Austria', 'Belgium', 'Canada', 'Chile', 'Colombia',\n",
       "       'Czech Republic', 'Denmark', 'Estonia', 'Finland', 'France',\n",
       "       'Germany', 'Greece', 'Hungary', 'Iceland', 'Ireland', 'Israel',\n",
       "       'Italy', 'Japan', 'Korea', 'Latvia', 'Lithuania', 'Luxembourg',\n",
       "       'Mexico', 'Netherlands', 'New Zealand', 'Norway', 'Poland',\n",
       "       'Portugal', 'Slovak Republic', 'Slovenia', 'Spain', 'Sweden',\n",
       "       'Switzerland', 'Turkey', 'United Kingdom', 'United States'],\n",
       "      dtype=object)"
      ]
     },
     "execution_count": 36,
     "metadata": {},
     "output_type": "execute_result"
    }
   ],
   "source": [
    "OECD_countries_df.Country.unique()"
   ]
  },
  {
   "cell_type": "code",
   "execution_count": 37,
   "metadata": {},
   "outputs": [
    {
     "data": {
      "text/html": [
       "<div>\n",
       "<style scoped>\n",
       "    .dataframe tbody tr th:only-of-type {\n",
       "        vertical-align: middle;\n",
       "    }\n",
       "\n",
       "    .dataframe tbody tr th {\n",
       "        vertical-align: top;\n",
       "    }\n",
       "\n",
       "    .dataframe thead th {\n",
       "        text-align: right;\n",
       "    }\n",
       "</style>\n",
       "<table border=\"1\" class=\"dataframe\">\n",
       "  <thead>\n",
       "    <tr style=\"text-align: right;\">\n",
       "      <th></th>\n",
       "      <th>WEO Country Code</th>\n",
       "      <th>ISO</th>\n",
       "      <th>WEO Subject Code</th>\n",
       "      <th>Country</th>\n",
       "      <th>Subject Descriptor</th>\n",
       "      <th>Subject Notes</th>\n",
       "      <th>Units</th>\n",
       "      <th>Scale</th>\n",
       "      <th>Country/Series-specific Notes</th>\n",
       "      <th>1980</th>\n",
       "      <th>...</th>\n",
       "      <th>2018</th>\n",
       "      <th>2019</th>\n",
       "      <th>2020</th>\n",
       "      <th>2021</th>\n",
       "      <th>2022</th>\n",
       "      <th>2023</th>\n",
       "      <th>2024</th>\n",
       "      <th>2025</th>\n",
       "      <th>Estimates Start After</th>\n",
       "      <th>Unnamed: 56</th>\n",
       "    </tr>\n",
       "  </thead>\n",
       "  <tbody>\n",
       "    <tr>\n",
       "      <th>387</th>\n",
       "      <td>193</td>\n",
       "      <td>AUS</td>\n",
       "      <td>LP</td>\n",
       "      <td>Australia</td>\n",
       "      <td>Population</td>\n",
       "      <td>For census purposes, the total population of t...</td>\n",
       "      <td>Persons</td>\n",
       "      <td>Millions</td>\n",
       "      <td>Source: National Statistics Office. Australian...</td>\n",
       "      <td>14.802</td>\n",
       "      <td>...</td>\n",
       "      <td>25.172</td>\n",
       "      <td>25.522</td>\n",
       "      <td>25.724</td>\n",
       "      <td>25.875</td>\n",
       "      <td>26.119</td>\n",
       "      <td>26.469</td>\n",
       "      <td>26.836</td>\n",
       "      <td>27.209</td>\n",
       "      <td>2019.0</td>\n",
       "      <td>NaN</td>\n",
       "    </tr>\n",
       "    <tr>\n",
       "      <th>432</th>\n",
       "      <td>122</td>\n",
       "      <td>AUT</td>\n",
       "      <td>LP</td>\n",
       "      <td>Austria</td>\n",
       "      <td>Population</td>\n",
       "      <td>For census purposes, the total population of t...</td>\n",
       "      <td>Persons</td>\n",
       "      <td>Millions</td>\n",
       "      <td>Source: National Statistics Office Latest actu...</td>\n",
       "      <td>7.540</td>\n",
       "      <td>...</td>\n",
       "      <td>8.885</td>\n",
       "      <td>8.859</td>\n",
       "      <td>8.901</td>\n",
       "      <td>8.946</td>\n",
       "      <td>8.990</td>\n",
       "      <td>9.035</td>\n",
       "      <td>9.080</td>\n",
       "      <td>9.126</td>\n",
       "      <td>2019.0</td>\n",
       "      <td>NaN</td>\n",
       "    </tr>\n",
       "    <tr>\n",
       "      <th>747</th>\n",
       "      <td>124</td>\n",
       "      <td>BEL</td>\n",
       "      <td>LP</td>\n",
       "      <td>Belgium</td>\n",
       "      <td>Population</td>\n",
       "      <td>For census purposes, the total population of t...</td>\n",
       "      <td>Persons</td>\n",
       "      <td>Millions</td>\n",
       "      <td>Source: Central Bank Latest actual data: 2019 ...</td>\n",
       "      <td>9.855</td>\n",
       "      <td>...</td>\n",
       "      <td>11.399</td>\n",
       "      <td>11.456</td>\n",
       "      <td>11.490</td>\n",
       "      <td>11.524</td>\n",
       "      <td>11.573</td>\n",
       "      <td>11.619</td>\n",
       "      <td>11.663</td>\n",
       "      <td>11.704</td>\n",
       "      <td>2019.0</td>\n",
       "      <td>NaN</td>\n",
       "    </tr>\n",
       "    <tr>\n",
       "      <th>1422</th>\n",
       "      <td>156</td>\n",
       "      <td>CAN</td>\n",
       "      <td>LP</td>\n",
       "      <td>Canada</td>\n",
       "      <td>Population</td>\n",
       "      <td>For census purposes, the total population of t...</td>\n",
       "      <td>Persons</td>\n",
       "      <td>Millions</td>\n",
       "      <td>Source: National Statistics Office Latest actu...</td>\n",
       "      <td>24.471</td>\n",
       "      <td>...</td>\n",
       "      <td>36.994</td>\n",
       "      <td>37.527</td>\n",
       "      <td>38.029</td>\n",
       "      <td>38.435</td>\n",
       "      <td>38.849</td>\n",
       "      <td>39.261</td>\n",
       "      <td>39.671</td>\n",
       "      <td>40.080</td>\n",
       "      <td>2019.0</td>\n",
       "      <td>NaN</td>\n",
       "    </tr>\n",
       "    <tr>\n",
       "      <th>1557</th>\n",
       "      <td>228</td>\n",
       "      <td>CHL</td>\n",
       "      <td>LP</td>\n",
       "      <td>Chile</td>\n",
       "      <td>Population</td>\n",
       "      <td>For census purposes, the total population of t...</td>\n",
       "      <td>Persons</td>\n",
       "      <td>Millions</td>\n",
       "      <td>Source: National Statistics Office Latest actu...</td>\n",
       "      <td>11.174</td>\n",
       "      <td>...</td>\n",
       "      <td>18.751</td>\n",
       "      <td>19.107</td>\n",
       "      <td>19.458</td>\n",
       "      <td>19.718</td>\n",
       "      <td>19.923</td>\n",
       "      <td>20.113</td>\n",
       "      <td>20.297</td>\n",
       "      <td>20.482</td>\n",
       "      <td>2019.0</td>\n",
       "      <td>NaN</td>\n",
       "    </tr>\n",
       "  </tbody>\n",
       "</table>\n",
       "<p>5 rows × 57 columns</p>\n",
       "</div>"
      ],
      "text/plain": [
       "     WEO Country Code  ISO WEO Subject Code    Country Subject Descriptor  \\\n",
       "387               193  AUS               LP  Australia         Population   \n",
       "432               122  AUT               LP    Austria         Population   \n",
       "747               124  BEL               LP    Belgium         Population   \n",
       "1422              156  CAN               LP     Canada         Population   \n",
       "1557              228  CHL               LP      Chile         Population   \n",
       "\n",
       "                                          Subject Notes    Units     Scale  \\\n",
       "387   For census purposes, the total population of t...  Persons  Millions   \n",
       "432   For census purposes, the total population of t...  Persons  Millions   \n",
       "747   For census purposes, the total population of t...  Persons  Millions   \n",
       "1422  For census purposes, the total population of t...  Persons  Millions   \n",
       "1557  For census purposes, the total population of t...  Persons  Millions   \n",
       "\n",
       "                          Country/Series-specific Notes    1980  ...    2018  \\\n",
       "387   Source: National Statistics Office. Australian...  14.802  ...  25.172   \n",
       "432   Source: National Statistics Office Latest actu...   7.540  ...   8.885   \n",
       "747   Source: Central Bank Latest actual data: 2019 ...   9.855  ...  11.399   \n",
       "1422  Source: National Statistics Office Latest actu...  24.471  ...  36.994   \n",
       "1557  Source: National Statistics Office Latest actu...  11.174  ...  18.751   \n",
       "\n",
       "        2019    2020    2021    2022    2023    2024    2025  \\\n",
       "387   25.522  25.724  25.875  26.119  26.469  26.836  27.209   \n",
       "432    8.859   8.901   8.946   8.990   9.035   9.080   9.126   \n",
       "747   11.456  11.490  11.524  11.573  11.619  11.663  11.704   \n",
       "1422  37.527  38.029  38.435  38.849  39.261  39.671  40.080   \n",
       "1557  19.107  19.458  19.718  19.923  20.113  20.297  20.482   \n",
       "\n",
       "     Estimates Start After Unnamed: 56  \n",
       "387                 2019.0         NaN  \n",
       "432                 2019.0         NaN  \n",
       "747                 2019.0         NaN  \n",
       "1422                2019.0         NaN  \n",
       "1557                2019.0         NaN  \n",
       "\n",
       "[5 rows x 57 columns]"
      ]
     },
     "execution_count": 37,
     "metadata": {},
     "output_type": "execute_result"
    }
   ],
   "source": [
    "OECD_countries_df.head()"
   ]
  },
  {
   "cell_type": "code",
   "execution_count": 39,
   "metadata": {},
   "outputs": [
    {
     "data": {
      "text/plain": [
       "0"
      ]
     },
     "execution_count": 39,
     "metadata": {},
     "output_type": "execute_result"
    }
   ],
   "source": [
    "OECD_countries_df['2019'].isnull().sum()"
   ]
  },
  {
   "cell_type": "code",
   "execution_count": 41,
   "metadata": {},
   "outputs": [
    {
     "name": "stderr",
     "output_type": "stream",
     "text": [
      "<ipython-input-41-607be4f30339>:1: SettingWithCopyWarning: \n",
      "A value is trying to be set on a copy of a slice from a DataFrame.\n",
      "Try using .loc[row_indexer,col_indexer] = value instead\n",
      "\n",
      "See the caveats in the documentation: https://pandas.pydata.org/pandas-docs/stable/user_guide/indexing.html#returning-a-view-versus-a-copy\n",
      "  OECD_countries_df['2019'] = pd.to_numeric(OECD_countries_df['2019'])\n"
     ]
    }
   ],
   "source": [
    "OECD_countries_df['2019'] = pd.to_numeric(OECD_countries_df['2019'])"
   ]
  },
  {
   "cell_type": "code",
   "execution_count": 42,
   "metadata": {},
   "outputs": [
    {
     "data": {
      "text/plain": [
       "WEO Country Code                  object\n",
       "ISO                               object\n",
       "WEO Subject Code                  object\n",
       "Country                           object\n",
       "Subject Descriptor                object\n",
       "Subject Notes                     object\n",
       "Units                             object\n",
       "Scale                             object\n",
       "Country/Series-specific Notes     object\n",
       "1980                              object\n",
       "1981                              object\n",
       "1982                              object\n",
       "1983                              object\n",
       "1984                              object\n",
       "1985                              object\n",
       "1986                              object\n",
       "1987                              object\n",
       "1988                              object\n",
       "1989                              object\n",
       "1990                              object\n",
       "1991                              object\n",
       "1992                              object\n",
       "1993                              object\n",
       "1994                              object\n",
       "1995                              object\n",
       "1996                              object\n",
       "1997                              object\n",
       "1998                              object\n",
       "1999                              object\n",
       "2000                              object\n",
       "2001                              object\n",
       "2002                              object\n",
       "2003                              object\n",
       "2004                              object\n",
       "2005                              object\n",
       "2006                              object\n",
       "2007                              object\n",
       "2008                              object\n",
       "2009                              object\n",
       "2010                              object\n",
       "2011                              object\n",
       "2012                              object\n",
       "2013                              object\n",
       "2014                              object\n",
       "2015                              object\n",
       "2016                              object\n",
       "2017                              object\n",
       "2018                              object\n",
       "2019                             float64\n",
       "2020                              object\n",
       "2021                              object\n",
       "2022                              object\n",
       "2023                              object\n",
       "2024                              object\n",
       "2025                              object\n",
       "Estimates Start After            float64\n",
       "Unnamed: 56                      float64\n",
       "dtype: object"
      ]
     },
     "execution_count": 42,
     "metadata": {},
     "output_type": "execute_result"
    }
   ],
   "source": [
    "OECD_countries_df.dtypes"
   ]
  },
  {
   "cell_type": "code",
   "execution_count": 46,
   "metadata": {},
   "outputs": [],
   "source": [
    "sorted_OECD_countries_df = OECD_countries_df.sort_values(by='2019', ascending=False)"
   ]
  },
  {
   "cell_type": "code",
   "execution_count": 78,
   "metadata": {},
   "outputs": [
    {
     "data": {
      "image/png": "[encoded data removed]",
      "text/plain": [
       "<Figure size 1440x720 with 1 Axes>"
      ]
     },
     "metadata": {
      "needs_background": "light"
     },
     "output_type": "display_data"
    }
   ],
   "source": [
    "fig, ax = plt.subplots(figsize=(20, 10))\n",
    "for i, v in enumerate(sorted_OECD_countries_df['2019']):\n",
    "    ax.text(i-.1, v + 5, str(round(v, 2)), rotation='vertical', weight='bold')\n",
    "ax.bar(sorted_OECD_countries_df['Country'], sorted_OECD_countries_df['2019'])\n",
    "plt.xticks(rotation=90)\n",
    "plt.show()"
   ]
  },
  {
   "cell_type": "code",
   "execution_count": null,
   "metadata": {},
   "outputs": [],
   "source": []
  }
 ],
 "metadata": {
  "kernelspec": {
   "display_name": "Python 3",
   "language": "python",
   "name": "python3"
  },
  "language_info": {
   "codemirror_mode": {
    "name": "ipython",
    "version": 3
   },
   "file_extension": ".py",
   "mimetype": "text/x-python",
   "name": "python",
   "nbconvert_exporter": "python",
   "pygments_lexer": "ipython3",
   "version": "3.8.3"
  }
 },
 "nbformat": 4,
 "nbformat_minor": 4
}
